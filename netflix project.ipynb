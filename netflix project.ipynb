{
 "cells": [
  {
   "cell_type": "markdown",
   "metadata": {},
   "source": [
    "Importing Libraries and data"
   ]
  },
  {
   "cell_type": "code",
   "execution_count": null,
   "metadata": {},
   "outputs": [],
   "source": [
    "import pandas as pd #used for data preparation\n",
    "import numpy as np #linear algebra operations\n",
    "import matplotlib.pyplot as plt #crreating visualizations using python\n",
    "import plotly.express as px #used for data visualization\n",
    "import seaborn as sns #used for creating statistical visualizations\n",
    "from textblob import TextBlob #used for sentiment Analysis"
   ]
  },
  {
   "cell_type": "code",
   "execution_count": null,
   "metadata": {},
   "outputs": [
    {
     "data": {
      "application/vnd.microsoft.datawrangler.viewer.v0+json": {
       "columns": [
        {
         "name": "index",
         "rawType": "int64",
         "type": "integer"
        },
        {
         "name": "show_id",
         "rawType": "object",
         "type": "string"
        },
        {
         "name": "type",
         "rawType": "object",
         "type": "string"
        },
        {
         "name": "title",
         "rawType": "object",
         "type": "string"
        },
        {
         "name": "director",
         "rawType": "object",
         "type": "string"
        },
        {
         "name": "country",
         "rawType": "object",
         "type": "string"
        },
        {
         "name": "date_added",
         "rawType": "object",
         "type": "string"
        },
        {
         "name": "release_year",
         "rawType": "int64",
         "type": "integer"
        },
        {
         "name": "rating",
         "rawType": "object",
         "type": "string"
        },
        {
         "name": "duration",
         "rawType": "object",
         "type": "string"
        },
        {
         "name": "listed_in",
         "rawType": "object",
         "type": "string"
        }
       ],
       "conversionMethod": "pd.DataFrame",
       "ref": "a72bd3e6-6347-4b3f-9cb3-c12b1251ccad",
       "rows": [
        [
         "0",
         "s1",
         "Movie",
         "Dick Johnson Is Dead",
         "Kirsten Johnson",
         "United States",
         "9/25/2021",
         "2020",
         "PG-13",
         "90 min",
         "Documentaries"
        ],
        [
         "1",
         "s3",
         "TV Show",
         "Ganglands",
         "Julien Leclercq",
         "France",
         "9/24/2021",
         "2021",
         "TV-MA",
         "1 Season",
         "Crime TV Shows, International TV Shows, TV Action & Adventure"
        ],
        [
         "2",
         "s6",
         "TV Show",
         "Midnight Mass",
         "Mike Flanagan",
         "United States",
         "9/24/2021",
         "2021",
         "TV-MA",
         "1 Season",
         "TV Dramas, TV Horror, TV Mysteries"
        ],
        [
         "3",
         "s14",
         "Movie",
         "Confessions of an Invisible Girl",
         "Bruno Garotti",
         "Brazil",
         "9/22/2021",
         "2021",
         "TV-PG",
         "91 min",
         "Children & Family Movies, Comedies"
        ],
        [
         "4",
         "s8",
         "Movie",
         "Sankofa",
         "Haile Gerima",
         "United States",
         "9/24/2021",
         "1993",
         "TV-MA",
         "125 min",
         "Dramas, Independent Movies, International Movies"
        ],
        [
         "5",
         "s9",
         "TV Show",
         "The Great British Baking Show",
         "Andy Devonshire",
         "United Kingdom",
         "9/24/2021",
         "2021",
         "TV-14",
         "9 Seasons",
         "British TV Shows, Reality TV"
        ],
        [
         "6",
         "s10",
         "Movie",
         "The Starling",
         "Theodore Melfi",
         "United States",
         "9/24/2021",
         "2021",
         "PG-13",
         "104 min",
         "Comedies, Dramas"
        ],
        [
         "7",
         "s939",
         "Movie",
         "Motu Patlu in the Game of Zones",
         "Suhas Kadav",
         "India",
         "5/1/2021",
         "2019",
         "TV-Y7",
         "87 min",
         "Children & Family Movies, Comedies, Music & Musicals"
        ],
        [
         "8",
         "s13",
         "Movie",
         "Je Suis Karl",
         "Christian Schwochow",
         "Germany",
         "9/23/2021",
         "2021",
         "TV-MA",
         "127 min",
         "Dramas, International Movies"
        ],
        [
         "9",
         "s940",
         "Movie",
         "Motu Patlu in Wonderland",
         "Suhas Kadav",
         "India",
         "5/1/2021",
         "2013",
         "TV-Y7",
         "76 min",
         "Children & Family Movies, Music & Musicals"
        ],
        [
         "10",
         "s941",
         "Movie",
         "Motu Patlu: Deep Sea Adventure",
         "Suhas Kadav",
         "India",
         "5/1/2021",
         "2014",
         "TV-Y7",
         "76 min",
         "Children & Family Movies, Comedies"
        ],
        [
         "11",
         "s942",
         "Movie",
         "Motu Patlu: Mission Moon",
         "Suhas Kadav",
         "India",
         "5/1/2021",
         "2013",
         "TV-Y7",
         "71 min",
         "Children & Family Movies, Comedies"
        ],
        [
         "12",
         "s852",
         "Movie",
         "99 Songs (Tamil)",
         "Not Given",
         "Pakistan",
         "5/21/2021",
         "2021",
         "TV-14",
         "131 min",
         "Dramas, International Movies, Music & Musicals"
        ],
        [
         "13",
         "s471",
         "Movie",
         "Bridgerton - The Afterparty",
         "Krysia Plonka, Kristian Mercado",
         "United States",
         "7/13/2021",
         "2021",
         "TV-14",
         "39 min",
         "Movies"
        ],
        [
         "14",
         "s730",
         "Movie",
         "Bling Empire - The Afterparty",
         "Krysia Plonka, Kristian Mercado",
         "United States",
         "6/12/2021",
         "2021",
         "TV-MA",
         "36 min",
         "Movies"
        ],
        [
         "15",
         "s731",
         "Movie",
         "Cobra Kai - The Afterparty",
         "Krysia Plonka, Kristian Mercado",
         "United States",
         "6/12/2021",
         "2021",
         "TV-MA",
         "34 min",
         "Movies"
        ],
        [
         "16",
         "s913",
         "Movie",
         "The Circle - The Afterparty",
         "Krysia Plonka, Kristian Mercado",
         "United States",
         "5/7/2021",
         "2021",
         "TV-14",
         "35 min",
         "Comedies"
        ],
        [
         "17",
         "s4",
         "TV Show",
         "Jailbirds New Orleans",
         "Not Given",
         "Pakistan",
         "9/24/2021",
         "2021",
         "TV-MA",
         "1 Season",
         "Docuseries, Reality TV"
        ],
        [
         "18",
         "s15",
         "TV Show",
         "Crime Stories: India Detectives",
         "Not Given",
         "Pakistan",
         "9/22/2021",
         "2021",
         "TV-MA",
         "1 Season",
         "British TV Shows, Crime TV Shows, Docuseries"
        ],
        [
         "19",
         "s3232",
         "Movie",
         "True: Winter Wishes",
         "Mark Thornton, Todd Kauffman",
         "United States",
         "11/26/2019",
         "2019",
         "TV-Y",
         "46 min",
         "Children & Family Movies"
        ],
        [
         "20",
         "s4832",
         "TV Show",
         "True: Magical Friends",
         "Mark Thornton, Todd Kauffman",
         "United States",
         "6/15/2018",
         "2018",
         "TV-Y",
         "1 Season",
         "Kids' TV"
        ],
        [
         "21",
         "s4833",
         "TV Show",
         "True: Wonderful Wishes",
         "Mark Thornton, Todd Kauffman",
         "United States",
         "6/15/2018",
         "2018",
         "TV-Y",
         "1 Season",
         "Kids' TV"
        ],
        [
         "22",
         "s4857",
         "TV Show",
         "Dance & Sing with True",
         "Mark Thornton, Todd Kauffman",
         "United States",
         "5/18/2018",
         "2018",
         "TV-Y",
         "1 Season",
         "Kids' TV"
        ],
        [
         "23",
         "s7",
         "Movie",
         "My Little Pony: A New Generation",
         "Robert Cullen, José Luis Ucha",
         "Not Given",
         "9/24/2021",
         "2021",
         "PG",
         "91 min",
         "Children & Family Movies"
        ],
        [
         "24",
         "s12",
         "TV Show",
         "Bangkok Breaking",
         "Kongkiat Komesiri",
         "Not Given",
         "9/23/2021",
         "2021",
         "TV-MA",
         "1 Season",
         "Crime TV Shows, International TV Shows, TV Action & Adventure"
        ],
        [
         "25",
         "s17",
         "Movie",
         "Europe's Most Dangerous Man: Otto Skorzeny in Spain",
         "Pedro de Echave García, Pablo Azorín Williams",
         "Not Given",
         "9/22/2021",
         "2020",
         "TV-MA",
         "67 min",
         "Documentaries, International Movies"
        ],
        [
         "26",
         "s7930",
         "Movie",
         "Samudri Lootere",
         "Anirban Majumder",
         "Not Given",
         "6/18/2019",
         "2018",
         "TV-Y",
         "65 min",
         "Children & Family Movies"
        ],
        [
         "27",
         "s21",
         "TV Show",
         "Monsters Inside: The 24 Faces of Billy Milligan",
         "Olivier Megaton",
         "United States",
         "9/22/2021",
         "2021",
         "TV-14",
         "1 Season",
         "Crime TV Shows, Docuseries, International TV Shows"
        ],
        [
         "28",
         "s24",
         "Movie",
         "Go! Go! Cory Carson: Chrissy Takes the Wheel",
         "Alex Woo, Stanley Moore",
         "United States",
         "9/21/2021",
         "2021",
         "TV-Y",
         "61 min",
         "Children & Family Movies"
        ],
        [
         "29",
         "s25",
         "Movie",
         "Jeans",
         "S. Shankar",
         "India",
         "9/21/2021",
         "1998",
         "TV-14",
         "166 min",
         "Comedies, International Movies, Romantic Movies"
        ],
        [
         "30",
         "s28",
         "Movie",
         "Grown Ups",
         "Dennis Dugan",
         "United States",
         "9/20/2021",
         "2010",
         "PG-13",
         "103 min",
         "Comedies"
        ],
        [
         "31",
         "s29",
         "Movie",
         "Dark Skies",
         "Scott Stewart",
         "United States",
         "9/19/2021",
         "2013",
         "PG-13",
         "97 min",
         "Horror Movies, Sci-Fi & Fantasy"
        ],
        [
         "32",
         "s30",
         "Movie",
         "Paranoia",
         "Robert Luketic",
         "United States",
         "9/19/2021",
         "2013",
         "PG-13",
         "106 min",
         "Thrillers"
        ],
        [
         "33",
         "s20",
         "TV Show",
         "Jaguar",
         "Not Given",
         "Pakistan",
         "9/22/2021",
         "2021",
         "TV-MA",
         "1 Season",
         "International TV Shows, Spanish-Language TV Shows, TV Action & Adventure"
        ],
        [
         "34",
         "s32",
         "TV Show",
         "Chicago Party Aunt",
         "Not Given",
         "Pakistan",
         "9/17/2021",
         "2021",
         "TV-MA",
         "1 Season",
         "TV Comedies"
        ],
        [
         "35",
         "s34",
         "TV Show",
         "Squid Game",
         "Not Given",
         "Pakistan",
         "9/17/2021",
         "2021",
         "TV-MA",
         "1 Season",
         "International TV Shows, TV Dramas, TV Thrillers"
        ],
        [
         "36",
         "s35",
         "TV Show",
         "Tayo and Little Wizards",
         "Not Given",
         "Pakistan",
         "9/17/2021",
         "2020",
         "TV-Y7",
         "1 Season",
         "Kids' TV"
        ],
        [
         "37",
         "s75",
         "TV Show",
         "The World's Most Amazing Vacation Rentals",
         "Not Given",
         "Pakistan",
         "9/14/2021",
         "2021",
         "TV-PG",
         "2 Seasons",
         "Reality TV"
        ],
        [
         "38",
         "s84",
         "TV Show",
         "Metal Shop Masters",
         "Not Given",
         "Pakistan",
         "9/10/2021",
         "2021",
         "TV-MA",
         "1 Season",
         "Reality TV"
        ],
        [
         "39",
         "s86",
         "TV Show",
         "Pokémon Master Journeys: The Series",
         "Not Given",
         "Pakistan",
         "9/10/2021",
         "2021",
         "TV-Y7",
         "1 Season",
         "Anime Series, Kids' TV"
        ],
        [
         "40",
         "s88",
         "TV Show",
         "Titipo Titipo",
         "Not Given",
         "Pakistan",
         "9/10/2021",
         "2019",
         "TV-Y",
         "2 Seasons",
         "Kids' TV, Korean TV Shows"
        ],
        [
         "41",
         "s90",
         "TV Show",
         "Mighty Raju",
         "Not Given",
         "Pakistan",
         "9/9/2021",
         "2017",
         "TV-Y7",
         "4 Seasons",
         "Kids' TV"
        ],
        [
         "42",
         "s101",
         "TV Show",
         "Tobot Galaxy Detectives",
         "Not Given",
         "Pakistan",
         "9/7/2021",
         "2019",
         "TV-Y7",
         "2 Seasons",
         "Kids' TV"
        ],
        [
         "43",
         "s122",
         "TV Show",
         "Hotel Del Luna",
         "Not Given",
         "Pakistan",
         "9/2/2021",
         "2019",
         "TV-14",
         "1 Season",
         "International TV Shows, Romantic TV Shows, TV Comedies"
        ],
        [
         "44",
         "s133",
         "TV Show",
         "Brave Animated Series",
         "Not Given",
         "Pakistan",
         "9/1/2021",
         "2021",
         "TV-MA",
         "1 Season",
         "International TV Shows, TV Action & Adventure, TV Comedies"
        ],
        [
         "45",
         "s148",
         "TV Show",
         "How to Be a Cowboy",
         "Not Given",
         "Pakistan",
         "9/1/2021",
         "2021",
         "TV-PG",
         "1 Season",
         "Reality TV"
        ],
        [
         "46",
         "s166",
         "TV Show",
         "Oldsters",
         "Not Given",
         "Pakistan",
         "9/1/2021",
         "2019",
         "TV-MA",
         "1 Season",
         "Crime TV Shows, International TV Shows, Spanish-Language TV Shows"
        ],
        [
         "47",
         "s190",
         "TV Show",
         "Bread Barbershop",
         "Not Given",
         "Pakistan",
         "8/28/2021",
         "2020",
         "TV-Y",
         "2 Seasons",
         "Kids' TV, TV Comedies"
        ],
        [
         "48",
         "s182",
         "TV Show",
         "Turning Point: 9/11 and the War on Terror",
         "Not Given",
         "Pakistan",
         "9/1/2021",
         "2021",
         "TV-14",
         "1 Season",
         "Docuseries"
        ],
        [
         "49",
         "s187",
         "TV Show",
         "Hometown Cha-Cha-Cha",
         "Not Given",
         "Pakistan",
         "8/29/2021",
         "2021",
         "TV-14",
         "1 Season",
         "International TV Shows, Romantic TV Shows, TV Comedies"
        ]
       ],
       "shape": {
        "columns": 10,
        "rows": 8790
       }
      },
      "text/html": [
       "<div>\n",
       "<style scoped>\n",
       "    .dataframe tbody tr th:only-of-type {\n",
       "        vertical-align: middle;\n",
       "    }\n",
       "\n",
       "    .dataframe tbody tr th {\n",
       "        vertical-align: top;\n",
       "    }\n",
       "\n",
       "    .dataframe thead th {\n",
       "        text-align: right;\n",
       "    }\n",
       "</style>\n",
       "<table border=\"1\" class=\"dataframe\">\n",
       "  <thead>\n",
       "    <tr style=\"text-align: right;\">\n",
       "      <th></th>\n",
       "      <th>show_id</th>\n",
       "      <th>type</th>\n",
       "      <th>title</th>\n",
       "      <th>director</th>\n",
       "      <th>country</th>\n",
       "      <th>date_added</th>\n",
       "      <th>release_year</th>\n",
       "      <th>rating</th>\n",
       "      <th>duration</th>\n",
       "      <th>listed_in</th>\n",
       "    </tr>\n",
       "  </thead>\n",
       "  <tbody>\n",
       "    <tr>\n",
       "      <th>0</th>\n",
       "      <td>s1</td>\n",
       "      <td>Movie</td>\n",
       "      <td>Dick Johnson Is Dead</td>\n",
       "      <td>Kirsten Johnson</td>\n",
       "      <td>United States</td>\n",
       "      <td>9/25/2021</td>\n",
       "      <td>2020</td>\n",
       "      <td>PG-13</td>\n",
       "      <td>90 min</td>\n",
       "      <td>Documentaries</td>\n",
       "    </tr>\n",
       "    <tr>\n",
       "      <th>1</th>\n",
       "      <td>s3</td>\n",
       "      <td>TV Show</td>\n",
       "      <td>Ganglands</td>\n",
       "      <td>Julien Leclercq</td>\n",
       "      <td>France</td>\n",
       "      <td>9/24/2021</td>\n",
       "      <td>2021</td>\n",
       "      <td>TV-MA</td>\n",
       "      <td>1 Season</td>\n",
       "      <td>Crime TV Shows, International TV Shows, TV Act...</td>\n",
       "    </tr>\n",
       "    <tr>\n",
       "      <th>2</th>\n",
       "      <td>s6</td>\n",
       "      <td>TV Show</td>\n",
       "      <td>Midnight Mass</td>\n",
       "      <td>Mike Flanagan</td>\n",
       "      <td>United States</td>\n",
       "      <td>9/24/2021</td>\n",
       "      <td>2021</td>\n",
       "      <td>TV-MA</td>\n",
       "      <td>1 Season</td>\n",
       "      <td>TV Dramas, TV Horror, TV Mysteries</td>\n",
       "    </tr>\n",
       "    <tr>\n",
       "      <th>3</th>\n",
       "      <td>s14</td>\n",
       "      <td>Movie</td>\n",
       "      <td>Confessions of an Invisible Girl</td>\n",
       "      <td>Bruno Garotti</td>\n",
       "      <td>Brazil</td>\n",
       "      <td>9/22/2021</td>\n",
       "      <td>2021</td>\n",
       "      <td>TV-PG</td>\n",
       "      <td>91 min</td>\n",
       "      <td>Children &amp; Family Movies, Comedies</td>\n",
       "    </tr>\n",
       "    <tr>\n",
       "      <th>4</th>\n",
       "      <td>s8</td>\n",
       "      <td>Movie</td>\n",
       "      <td>Sankofa</td>\n",
       "      <td>Haile Gerima</td>\n",
       "      <td>United States</td>\n",
       "      <td>9/24/2021</td>\n",
       "      <td>1993</td>\n",
       "      <td>TV-MA</td>\n",
       "      <td>125 min</td>\n",
       "      <td>Dramas, Independent Movies, International Movies</td>\n",
       "    </tr>\n",
       "    <tr>\n",
       "      <th>...</th>\n",
       "      <td>...</td>\n",
       "      <td>...</td>\n",
       "      <td>...</td>\n",
       "      <td>...</td>\n",
       "      <td>...</td>\n",
       "      <td>...</td>\n",
       "      <td>...</td>\n",
       "      <td>...</td>\n",
       "      <td>...</td>\n",
       "      <td>...</td>\n",
       "    </tr>\n",
       "    <tr>\n",
       "      <th>8785</th>\n",
       "      <td>s8797</td>\n",
       "      <td>TV Show</td>\n",
       "      <td>Yunus Emre</td>\n",
       "      <td>Not Given</td>\n",
       "      <td>Turkey</td>\n",
       "      <td>1/17/2017</td>\n",
       "      <td>2016</td>\n",
       "      <td>TV-PG</td>\n",
       "      <td>2 Seasons</td>\n",
       "      <td>International TV Shows, TV Dramas</td>\n",
       "    </tr>\n",
       "    <tr>\n",
       "      <th>8786</th>\n",
       "      <td>s8798</td>\n",
       "      <td>TV Show</td>\n",
       "      <td>Zak Storm</td>\n",
       "      <td>Not Given</td>\n",
       "      <td>United States</td>\n",
       "      <td>9/13/2018</td>\n",
       "      <td>2016</td>\n",
       "      <td>TV-Y7</td>\n",
       "      <td>3 Seasons</td>\n",
       "      <td>Kids' TV</td>\n",
       "    </tr>\n",
       "    <tr>\n",
       "      <th>8787</th>\n",
       "      <td>s8801</td>\n",
       "      <td>TV Show</td>\n",
       "      <td>Zindagi Gulzar Hai</td>\n",
       "      <td>Not Given</td>\n",
       "      <td>Pakistan</td>\n",
       "      <td>12/15/2016</td>\n",
       "      <td>2012</td>\n",
       "      <td>TV-PG</td>\n",
       "      <td>1 Season</td>\n",
       "      <td>International TV Shows, Romantic TV Shows, TV ...</td>\n",
       "    </tr>\n",
       "    <tr>\n",
       "      <th>8788</th>\n",
       "      <td>s8784</td>\n",
       "      <td>TV Show</td>\n",
       "      <td>Yoko</td>\n",
       "      <td>Not Given</td>\n",
       "      <td>Pakistan</td>\n",
       "      <td>6/23/2018</td>\n",
       "      <td>2016</td>\n",
       "      <td>TV-Y</td>\n",
       "      <td>1 Season</td>\n",
       "      <td>Kids' TV</td>\n",
       "    </tr>\n",
       "    <tr>\n",
       "      <th>8789</th>\n",
       "      <td>s8786</td>\n",
       "      <td>TV Show</td>\n",
       "      <td>YOM</td>\n",
       "      <td>Not Given</td>\n",
       "      <td>Pakistan</td>\n",
       "      <td>6/7/2018</td>\n",
       "      <td>2016</td>\n",
       "      <td>TV-Y7</td>\n",
       "      <td>1 Season</td>\n",
       "      <td>Kids' TV</td>\n",
       "    </tr>\n",
       "  </tbody>\n",
       "</table>\n",
       "<p>8790 rows × 10 columns</p>\n",
       "</div>"
      ],
      "text/plain": [
       "     show_id     type                             title         director  \\\n",
       "0         s1    Movie              Dick Johnson Is Dead  Kirsten Johnson   \n",
       "1         s3  TV Show                         Ganglands  Julien Leclercq   \n",
       "2         s6  TV Show                     Midnight Mass    Mike Flanagan   \n",
       "3        s14    Movie  Confessions of an Invisible Girl    Bruno Garotti   \n",
       "4         s8    Movie                           Sankofa     Haile Gerima   \n",
       "...      ...      ...                               ...              ...   \n",
       "8785   s8797  TV Show                        Yunus Emre        Not Given   \n",
       "8786   s8798  TV Show                         Zak Storm        Not Given   \n",
       "8787   s8801  TV Show                Zindagi Gulzar Hai        Not Given   \n",
       "8788   s8784  TV Show                              Yoko        Not Given   \n",
       "8789   s8786  TV Show                               YOM        Not Given   \n",
       "\n",
       "            country  date_added  release_year rating   duration  \\\n",
       "0     United States   9/25/2021          2020  PG-13     90 min   \n",
       "1            France   9/24/2021          2021  TV-MA   1 Season   \n",
       "2     United States   9/24/2021          2021  TV-MA   1 Season   \n",
       "3            Brazil   9/22/2021          2021  TV-PG     91 min   \n",
       "4     United States   9/24/2021          1993  TV-MA    125 min   \n",
       "...             ...         ...           ...    ...        ...   \n",
       "8785         Turkey   1/17/2017          2016  TV-PG  2 Seasons   \n",
       "8786  United States   9/13/2018          2016  TV-Y7  3 Seasons   \n",
       "8787       Pakistan  12/15/2016          2012  TV-PG   1 Season   \n",
       "8788       Pakistan   6/23/2018          2016   TV-Y   1 Season   \n",
       "8789       Pakistan    6/7/2018          2016  TV-Y7   1 Season   \n",
       "\n",
       "                                              listed_in  \n",
       "0                                         Documentaries  \n",
       "1     Crime TV Shows, International TV Shows, TV Act...  \n",
       "2                    TV Dramas, TV Horror, TV Mysteries  \n",
       "3                    Children & Family Movies, Comedies  \n",
       "4      Dramas, Independent Movies, International Movies  \n",
       "...                                                 ...  \n",
       "8785                  International TV Shows, TV Dramas  \n",
       "8786                                           Kids' TV  \n",
       "8787  International TV Shows, Romantic TV Shows, TV ...  \n",
       "8788                                           Kids' TV  \n",
       "8789                                           Kids' TV  \n",
       "\n",
       "[8790 rows x 10 columns]"
      ]
     },
     "execution_count": 3,
     "metadata": {},
     "output_type": "execute_result"
    }
   ],
   "source": [
    "df=pd.read_csv(\"C:\\\\Users\\\\dolik\\\\Downloads\\\\netflix1.csv\")\n",
    "df"
   ]
  },
  {
   "cell_type": "markdown",
   "metadata": {},
   "source": [
    "Checking content available in data"
   ]
  },
  {
   "cell_type": "code",
   "execution_count": null,
   "metadata": {},
   "outputs": [
    {
     "data": {
      "application/vnd.microsoft.datawrangler.viewer.v0+json": {
       "columns": [
        {
         "name": "index",
         "rawType": "int64",
         "type": "integer"
        },
        {
         "name": "show_id",
         "rawType": "object",
         "type": "string"
        },
        {
         "name": "type",
         "rawType": "object",
         "type": "string"
        },
        {
         "name": "title",
         "rawType": "object",
         "type": "string"
        },
        {
         "name": "director",
         "rawType": "object",
         "type": "string"
        },
        {
         "name": "country",
         "rawType": "object",
         "type": "string"
        },
        {
         "name": "date_added",
         "rawType": "object",
         "type": "string"
        },
        {
         "name": "release_year",
         "rawType": "int64",
         "type": "integer"
        },
        {
         "name": "rating",
         "rawType": "object",
         "type": "string"
        },
        {
         "name": "duration",
         "rawType": "object",
         "type": "string"
        },
        {
         "name": "listed_in",
         "rawType": "object",
         "type": "string"
        }
       ],
       "conversionMethod": "pd.DataFrame",
       "ref": "aa08f831-2bad-409a-aef1-32fd85dd3490",
       "rows": [
        [
         "0",
         "s1",
         "Movie",
         "Dick Johnson Is Dead",
         "Kirsten Johnson",
         "United States",
         "9/25/2021",
         "2020",
         "PG-13",
         "90 min",
         "Documentaries"
        ],
        [
         "1",
         "s3",
         "TV Show",
         "Ganglands",
         "Julien Leclercq",
         "France",
         "9/24/2021",
         "2021",
         "TV-MA",
         "1 Season",
         "Crime TV Shows, International TV Shows, TV Action & Adventure"
        ],
        [
         "2",
         "s6",
         "TV Show",
         "Midnight Mass",
         "Mike Flanagan",
         "United States",
         "9/24/2021",
         "2021",
         "TV-MA",
         "1 Season",
         "TV Dramas, TV Horror, TV Mysteries"
        ],
        [
         "3",
         "s14",
         "Movie",
         "Confessions of an Invisible Girl",
         "Bruno Garotti",
         "Brazil",
         "9/22/2021",
         "2021",
         "TV-PG",
         "91 min",
         "Children & Family Movies, Comedies"
        ],
        [
         "4",
         "s8",
         "Movie",
         "Sankofa",
         "Haile Gerima",
         "United States",
         "9/24/2021",
         "1993",
         "TV-MA",
         "125 min",
         "Dramas, Independent Movies, International Movies"
        ]
       ],
       "shape": {
        "columns": 10,
        "rows": 5
       }
      },
      "text/html": [
       "<div>\n",
       "<style scoped>\n",
       "    .dataframe tbody tr th:only-of-type {\n",
       "        vertical-align: middle;\n",
       "    }\n",
       "\n",
       "    .dataframe tbody tr th {\n",
       "        vertical-align: top;\n",
       "    }\n",
       "\n",
       "    .dataframe thead th {\n",
       "        text-align: right;\n",
       "    }\n",
       "</style>\n",
       "<table border=\"1\" class=\"dataframe\">\n",
       "  <thead>\n",
       "    <tr style=\"text-align: right;\">\n",
       "      <th></th>\n",
       "      <th>show_id</th>\n",
       "      <th>type</th>\n",
       "      <th>title</th>\n",
       "      <th>director</th>\n",
       "      <th>country</th>\n",
       "      <th>date_added</th>\n",
       "      <th>release_year</th>\n",
       "      <th>rating</th>\n",
       "      <th>duration</th>\n",
       "      <th>listed_in</th>\n",
       "    </tr>\n",
       "  </thead>\n",
       "  <tbody>\n",
       "    <tr>\n",
       "      <th>0</th>\n",
       "      <td>s1</td>\n",
       "      <td>Movie</td>\n",
       "      <td>Dick Johnson Is Dead</td>\n",
       "      <td>Kirsten Johnson</td>\n",
       "      <td>United States</td>\n",
       "      <td>9/25/2021</td>\n",
       "      <td>2020</td>\n",
       "      <td>PG-13</td>\n",
       "      <td>90 min</td>\n",
       "      <td>Documentaries</td>\n",
       "    </tr>\n",
       "    <tr>\n",
       "      <th>1</th>\n",
       "      <td>s3</td>\n",
       "      <td>TV Show</td>\n",
       "      <td>Ganglands</td>\n",
       "      <td>Julien Leclercq</td>\n",
       "      <td>France</td>\n",
       "      <td>9/24/2021</td>\n",
       "      <td>2021</td>\n",
       "      <td>TV-MA</td>\n",
       "      <td>1 Season</td>\n",
       "      <td>Crime TV Shows, International TV Shows, TV Act...</td>\n",
       "    </tr>\n",
       "    <tr>\n",
       "      <th>2</th>\n",
       "      <td>s6</td>\n",
       "      <td>TV Show</td>\n",
       "      <td>Midnight Mass</td>\n",
       "      <td>Mike Flanagan</td>\n",
       "      <td>United States</td>\n",
       "      <td>9/24/2021</td>\n",
       "      <td>2021</td>\n",
       "      <td>TV-MA</td>\n",
       "      <td>1 Season</td>\n",
       "      <td>TV Dramas, TV Horror, TV Mysteries</td>\n",
       "    </tr>\n",
       "    <tr>\n",
       "      <th>3</th>\n",
       "      <td>s14</td>\n",
       "      <td>Movie</td>\n",
       "      <td>Confessions of an Invisible Girl</td>\n",
       "      <td>Bruno Garotti</td>\n",
       "      <td>Brazil</td>\n",
       "      <td>9/22/2021</td>\n",
       "      <td>2021</td>\n",
       "      <td>TV-PG</td>\n",
       "      <td>91 min</td>\n",
       "      <td>Children &amp; Family Movies, Comedies</td>\n",
       "    </tr>\n",
       "    <tr>\n",
       "      <th>4</th>\n",
       "      <td>s8</td>\n",
       "      <td>Movie</td>\n",
       "      <td>Sankofa</td>\n",
       "      <td>Haile Gerima</td>\n",
       "      <td>United States</td>\n",
       "      <td>9/24/2021</td>\n",
       "      <td>1993</td>\n",
       "      <td>TV-MA</td>\n",
       "      <td>125 min</td>\n",
       "      <td>Dramas, Independent Movies, International Movies</td>\n",
       "    </tr>\n",
       "  </tbody>\n",
       "</table>\n",
       "</div>"
      ],
      "text/plain": [
       "  show_id     type                             title         director  \\\n",
       "0      s1    Movie              Dick Johnson Is Dead  Kirsten Johnson   \n",
       "1      s3  TV Show                         Ganglands  Julien Leclercq   \n",
       "2      s6  TV Show                     Midnight Mass    Mike Flanagan   \n",
       "3     s14    Movie  Confessions of an Invisible Girl    Bruno Garotti   \n",
       "4      s8    Movie                           Sankofa     Haile Gerima   \n",
       "\n",
       "         country date_added  release_year rating  duration  \\\n",
       "0  United States  9/25/2021          2020  PG-13    90 min   \n",
       "1         France  9/24/2021          2021  TV-MA  1 Season   \n",
       "2  United States  9/24/2021          2021  TV-MA  1 Season   \n",
       "3         Brazil  9/22/2021          2021  TV-PG    91 min   \n",
       "4  United States  9/24/2021          1993  TV-MA   125 min   \n",
       "\n",
       "                                           listed_in  \n",
       "0                                      Documentaries  \n",
       "1  Crime TV Shows, International TV Shows, TV Act...  \n",
       "2                 TV Dramas, TV Horror, TV Mysteries  \n",
       "3                 Children & Family Movies, Comedies  \n",
       "4   Dramas, Independent Movies, International Movies  "
      ]
     },
     "execution_count": 4,
     "metadata": {},
     "output_type": "execute_result"
    }
   ],
   "source": [
    "df.head()"
   ]
  },
  {
   "cell_type": "markdown",
   "metadata": {},
   "source": [
    "How to check columns name of dataset"
   ]
  },
  {
   "cell_type": "code",
   "execution_count": null,
   "metadata": {},
   "outputs": [
    {
     "data": {
      "text/plain": [
       "Index(['show_id', 'type', 'title', 'director', 'country', 'date_added',\n",
       "       'release_year', 'rating', 'duration', 'listed_in'],\n",
       "      dtype='object')"
      ]
     },
     "execution_count": 5,
     "metadata": {},
     "output_type": "execute_result"
    }
   ],
   "source": [
    "df.columns"
   ]
  },
  {
   "cell_type": "markdown",
   "metadata": {},
   "source": [
    "Taking the count of ratings available"
   ]
  },
  {
   "cell_type": "code",
   "execution_count": null,
   "metadata": {},
   "outputs": [
    {
     "name": "stdout",
     "output_type": "stream",
     "text": [
      "      rating  counts\n",
      "0          G      41\n",
      "1      NC-17       3\n",
      "2         NR      79\n",
      "3         PG     287\n",
      "4      PG-13     490\n",
      "5          R     799\n",
      "6      TV-14    2157\n",
      "7       TV-G     220\n",
      "8      TV-MA    3205\n",
      "9      TV-PG     861\n",
      "10      TV-Y     306\n",
      "11     TV-Y7     333\n",
      "12  TV-Y7-FV       6\n",
      "13        UR       3\n"
     ]
    }
   ],
   "source": [
    "x=df.groupby(['rating']).size().reset_index(name='counts')\n",
    "print(x)"
   ]
  },
  {
   "cell_type": "markdown",
   "metadata": {},
   "source": [
    "Checking the datatypes of the columns"
   ]
  },
  {
   "cell_type": "code",
   "execution_count": null,
   "metadata": {},
   "outputs": [
    {
     "name": "stdout",
     "output_type": "stream",
     "text": [
      "<class 'pandas.core.frame.DataFrame'>\n",
      "RangeIndex: 8790 entries, 0 to 8789\n",
      "Data columns (total 10 columns):\n",
      " #   Column        Non-Null Count  Dtype \n",
      "---  ------        --------------  ----- \n",
      " 0   show_id       8790 non-null   object\n",
      " 1   type          8790 non-null   object\n",
      " 2   title         8790 non-null   object\n",
      " 3   director      8790 non-null   object\n",
      " 4   country       8790 non-null   object\n",
      " 5   date_added    8790 non-null   object\n",
      " 6   release_year  8790 non-null   int64 \n",
      " 7   rating        8790 non-null   object\n",
      " 8   duration      8790 non-null   object\n",
      " 9   listed_in     8790 non-null   object\n",
      "dtypes: int64(1), object(9)\n",
      "memory usage: 686.8+ KB\n"
     ]
    }
   ],
   "source": [
    "df.info()"
   ]
  },
  {
   "cell_type": "code",
   "execution_count": null,
   "metadata": {},
   "outputs": [
    {
     "data": {
      "text/plain": [
       "np.int64(0)"
      ]
     },
     "execution_count": 8,
     "metadata": {},
     "output_type": "execute_result"
    }
   ],
   "source": [
    "df.duplicated().sum()"
   ]
  },
  {
   "cell_type": "code",
   "execution_count": null,
   "metadata": {},
   "outputs": [
    {
     "name": "stdout",
     "output_type": "stream",
     "text": [
      "<class 'pandas.core.frame.DataFrame'>\n",
      "RangeIndex: 8790 entries, 0 to 8789\n",
      "Data columns (total 10 columns):\n",
      " #   Column        Non-Null Count  Dtype \n",
      "---  ------        --------------  ----- \n",
      " 0   show_id       8790 non-null   object\n",
      " 1   type          8790 non-null   object\n",
      " 2   title         8790 non-null   object\n",
      " 3   director      8790 non-null   object\n",
      " 4   country       8790 non-null   object\n",
      " 5   date_added    8790 non-null   object\n",
      " 6   release_year  8790 non-null   int64 \n",
      " 7   rating        8790 non-null   object\n",
      " 8   duration      8790 non-null   object\n",
      " 9   listed_in     8790 non-null   object\n",
      "dtypes: int64(1), object(9)\n",
      "memory usage: 686.8+ KB\n"
     ]
    }
   ],
   "source": [
    "df.info()"
   ]
  },
  {
   "cell_type": "code",
   "execution_count": null,
   "metadata": {},
   "outputs": [
    {
     "data": {
      "text/plain": [
       "show_id         8790\n",
       "type               2\n",
       "title           8787\n",
       "director        4528\n",
       "country           86\n",
       "date_added      1713\n",
       "release_year      74\n",
       "rating            14\n",
       "duration         220\n",
       "listed_in        513\n",
       "dtype: int64"
      ]
     },
     "execution_count": 10,
     "metadata": {},
     "output_type": "execute_result"
    }
   ],
   "source": [
    "df.nunique()"
   ]
  },
  {
   "cell_type": "markdown",
   "metadata": {},
   "source": [
    "Data Visualization\n",
    "\n",
    "What is the most frequent genre of movie that is in listed_in column on Netflix?"
   ]
  },
  {
   "cell_type": "code",
   "execution_count": null,
   "metadata": {},
   "outputs": [
    {
     "data": {
      "text/plain": [
       "count                             8790\n",
       "unique                             513\n",
       "top       Dramas, International Movies\n",
       "freq                               362\n",
       "Name: listed_in, dtype: object"
      ]
     },
     "execution_count": 11,
     "metadata": {},
     "output_type": "execute_result"
    }
   ],
   "source": [
    "df[\"listed_in\"].describe()"
   ]
  },
  {
   "cell_type": "markdown",
   "metadata": {},
   "source": [
    "Counting the types on Netflix that customers are most instrested"
   ]
  },
  {
   "cell_type": "code",
   "execution_count": null,
   "metadata": {},
   "outputs": [
    {
     "data": {
      "image/png": "[encoded data removed]",
      "text/plain": [
       "<Figure size 640x480 with 1 Axes>"
      ]
     },
     "metadata": {},
     "output_type": "display_data"
    }
   ],
   "source": [
    "ax=sns.countplot(x='type',data = df)\n",
    "ax.bar_label(ax.containers[0])\n",
    "plt.title(\"Count of types\")\n",
    "plt.show()"
   ]
  },
  {
   "cell_type": "markdown",
   "metadata": {},
   "source": [
    "Creating the piechart based on Content rating"
   ]
  },
  {
   "cell_type": "code",
   "execution_count": null,
   "metadata": {},
   "outputs": [
    {
     "name": "stdout",
     "output_type": "stream",
     "text": [
      "      rating  counts\n",
      "0          G      41\n",
      "1      NC-17       3\n",
      "2         NR      79\n",
      "3         PG     287\n",
      "4      PG-13     490\n",
      "5          R     799\n",
      "6      TV-14    2157\n",
      "7       TV-G     220\n",
      "8      TV-MA    3205\n",
      "9      TV-PG     861\n",
      "10      TV-Y     306\n",
      "11     TV-Y7     333\n",
      "12  TV-Y7-FV       6\n",
      "13        UR       3\n"
     ]
    },
    {
     "data": {
      "application/vnd.plotly.v1+json": {
       "config": {
        "plotlyServerURL": "https://plot.ly"
       },
       "data": [
        {
         "domain": {
          "x": [
           0,
           1
          ],
          "y": [
           0,
           1
          ]
         },
         "hovertemplate": "rating=%{label}<br>counts=%{value}<extra></extra>",
         "labels": [
          "G",
          "NC-17",
          "NR",
          "PG",
          "PG-13",
          "R",
          "TV-14",
          "TV-G",
          "TV-MA",
          "TV-PG",
          "TV-Y",
          "TV-Y7",
          "TV-Y7-FV",
          "UR"
         ],
         "legendgroup": "",
         "name": "",
         "showlegend": true,
         "type": "pie",
         "values": {
          "bdata": "KQADAE8AHwHqAR8DbQjcAIUMXQMyAU0BBgADAA==",
          "dtype": "i2"
         }
        }
       ],
       "layout": {
        "legend": {
         "tracegroupgap": 0
        },
        "template": {
         "data": {
          "bar": [
           {
            "error_x": {
             "color": "#2a3f5f"
            },
            "error_y": {
             "color": "#2a3f5f"
            },
            "marker": {
             "line": {
              "color": "#E5ECF6",
              "width": 0.5
             },
             "pattern": {
              "fillmode": "overlay",
              "size": 10,
              "solidity": 0.2
             }
            },
            "type": "bar"
           }
          ],
          "barpolar": [
           {
            "marker": {
             "line": {
              "color": "#E5ECF6",
              "width": 0.5
             },
             "pattern": {
              "fillmode": "overlay",
              "size": 10,
              "solidity": 0.2
             }
            },
            "type": "barpolar"
           }
          ],
          "carpet": [
           {
            "aaxis": {
             "endlinecolor": "#2a3f5f",
             "gridcolor": "white",
             "linecolor": "white",
             "minorgridcolor": "white",
             "startlinecolor": "#2a3f5f"
            },
            "baxis": {
             "endlinecolor": "#2a3f5f",
             "gridcolor": "white",
             "linecolor": "white",
             "minorgridcolor": "white",
             "startlinecolor": "#2a3f5f"
            },
            "type": "carpet"
           }
          ],
          "choropleth": [
           {
            "colorbar": {
             "outlinewidth": 0,
             "ticks": ""
            },
            "type": "choropleth"
           }
          ],
          "contour": [
           {
            "colorbar": {
             "outlinewidth": 0,
             "ticks": ""
            },
            "colorscale": [
             [
              0,
              "#0d0887"
             ],
             [
              0.1111111111111111,
              "#46039f"
             ],
             [
              0.2222222222222222,
              "#7201a8"
             ],
             [
              0.3333333333333333,
              "#9c179e"
             ],
             [
              0.4444444444444444,
              "#bd3786"
             ],
             [
              0.5555555555555556,
              "#d8576b"
             ],
             [
              0.6666666666666666,
              "#ed7953"
             ],
             [
              0.7777777777777778,
              "#fb9f3a"
             ],
             [
              0.8888888888888888,
              "#fdca26"
             ],
             [
              1,
              "#f0f921"
             ]
            ],
            "type": "contour"
           }
          ],
          "contourcarpet": [
           {
            "colorbar": {
             "outlinewidth": 0,
             "ticks": ""
            },
            "type": "contourcarpet"
           }
          ],
          "heatmap": [
           {
            "colorbar": {
             "outlinewidth": 0,
             "ticks": ""
            },
            "colorscale": [
             [
              0,
              "#0d0887"
             ],
             [
              0.1111111111111111,
              "#46039f"
             ],
             [
              0.2222222222222222,
              "#7201a8"
             ],
             [
              0.3333333333333333,
              "#9c179e"
             ],
             [
              0.4444444444444444,
              "#bd3786"
             ],
             [
              0.5555555555555556,
              "#d8576b"
             ],
             [
              0.6666666666666666,
              "#ed7953"
             ],
             [
              0.7777777777777778,
              "#fb9f3a"
             ],
             [
              0.8888888888888888,
              "#fdca26"
             ],
             [
              1,
              "#f0f921"
             ]
            ],
            "type": "heatmap"
           }
          ],
          "histogram": [
           {
            "marker": {
             "pattern": {
              "fillmode": "overlay",
              "size": 10,
              "solidity": 0.2
             }
            },
            "type": "histogram"
           }
          ],
          "histogram2d": [
           {
            "colorbar": {
             "outlinewidth": 0,
             "ticks": ""
            },
            "colorscale": [
             [
              0,
              "#0d0887"
             ],
             [
              0.1111111111111111,
              "#46039f"
             ],
             [
              0.2222222222222222,
              "#7201a8"
             ],
             [
              0.3333333333333333,
              "#9c179e"
             ],
             [
              0.4444444444444444,
              "#bd3786"
             ],
             [
              0.5555555555555556,
              "#d8576b"
             ],
             [
              0.6666666666666666,
              "#ed7953"
             ],
             [
              0.7777777777777778,
              "#fb9f3a"
             ],
             [
              0.8888888888888888,
              "#fdca26"
             ],
             [
              1,
              "#f0f921"
             ]
            ],
            "type": "histogram2d"
           }
          ],
          "histogram2dcontour": [
           {
            "colorbar": {
             "outlinewidth": 0,
             "ticks": ""
            },
            "colorscale": [
             [
              0,
              "#0d0887"
             ],
             [
              0.1111111111111111,
              "#46039f"
             ],
             [
              0.2222222222222222,
              "#7201a8"
             ],
             [
              0.3333333333333333,
              "#9c179e"
             ],
             [
              0.4444444444444444,
              "#bd3786"
             ],
             [
              0.5555555555555556,
              "#d8576b"
             ],
             [
              0.6666666666666666,
              "#ed7953"
             ],
             [
              0.7777777777777778,
              "#fb9f3a"
             ],
             [
              0.8888888888888888,
              "#fdca26"
             ],
             [
              1,
              "#f0f921"
             ]
            ],
            "type": "histogram2dcontour"
           }
          ],
          "mesh3d": [
           {
            "colorbar": {
             "outlinewidth": 0,
             "ticks": ""
            },
            "type": "mesh3d"
           }
          ],
          "parcoords": [
           {
            "line": {
             "colorbar": {
              "outlinewidth": 0,
              "ticks": ""
             }
            },
            "type": "parcoords"
           }
          ],
          "pie": [
           {
            "automargin": true,
            "type": "pie"
           }
          ],
          "scatter": [
           {
            "fillpattern": {
             "fillmode": "overlay",
             "size": 10,
             "solidity": 0.2
            },
            "type": "scatter"
           }
          ],
          "scatter3d": [
           {
            "line": {
             "colorbar": {
              "outlinewidth": 0,
              "ticks": ""
             }
            },
            "marker": {
             "colorbar": {
              "outlinewidth": 0,
              "ticks": ""
             }
            },
            "type": "scatter3d"
           }
          ],
          "scattercarpet": [
           {
            "marker": {
             "colorbar": {
              "outlinewidth": 0,
              "ticks": ""
             }
            },
            "type": "scattercarpet"
           }
          ],
          "scattergeo": [
           {
            "marker": {
             "colorbar": {
              "outlinewidth": 0,
              "ticks": ""
             }
            },
            "type": "scattergeo"
           }
          ],
          "scattergl": [
           {
            "marker": {
             "colorbar": {
              "outlinewidth": 0,
              "ticks": ""
             }
            },
            "type": "scattergl"
           }
          ],
          "scattermap": [
           {
            "marker": {
             "colorbar": {
              "outlinewidth": 0,
              "ticks": ""
             }
            },
            "type": "scattermap"
           }
          ],
          "scattermapbox": [
           {
            "marker": {
             "colorbar": {
              "outlinewidth": 0,
              "ticks": ""
             }
            },
            "type": "scattermapbox"
           }
          ],
          "scatterpolar": [
           {
            "marker": {
             "colorbar": {
              "outlinewidth": 0,
              "ticks": ""
             }
            },
            "type": "scatterpolar"
           }
          ],
          "scatterpolargl": [
           {
            "marker": {
             "colorbar": {
              "outlinewidth": 0,
              "ticks": ""
             }
            },
            "type": "scatterpolargl"
           }
          ],
          "scatterternary": [
           {
            "marker": {
             "colorbar": {
              "outlinewidth": 0,
              "ticks": ""
             }
            },
            "type": "scatterternary"
           }
          ],
          "surface": [
           {
            "colorbar": {
             "outlinewidth": 0,
             "ticks": ""
            },
            "colorscale": [
             [
              0,
              "#0d0887"
             ],
             [
              0.1111111111111111,
              "#46039f"
             ],
             [
              0.2222222222222222,
              "#7201a8"
             ],
             [
              0.3333333333333333,
              "#9c179e"
             ],
             [
              0.4444444444444444,
              "#bd3786"
             ],
             [
              0.5555555555555556,
              "#d8576b"
             ],
             [
              0.6666666666666666,
              "#ed7953"
             ],
             [
              0.7777777777777778,
              "#fb9f3a"
             ],
             [
              0.8888888888888888,
              "#fdca26"
             ],
             [
              1,
              "#f0f921"
             ]
            ],
            "type": "surface"
           }
          ],
          "table": [
           {
            "cells": {
             "fill": {
              "color": "#EBF0F8"
             },
             "line": {
              "color": "white"
             }
            },
            "header": {
             "fill": {
              "color": "#C8D4E3"
             },
             "line": {
              "color": "white"
             }
            },
            "type": "table"
           }
          ]
         },
         "layout": {
          "annotationdefaults": {
           "arrowcolor": "#2a3f5f",
           "arrowhead": 0,
           "arrowwidth": 1
          },
          "autotypenumbers": "strict",
          "coloraxis": {
           "colorbar": {
            "outlinewidth": 0,
            "ticks": ""
           }
          },
          "colorscale": {
           "diverging": [
            [
             0,
             "#8e0152"
            ],
            [
             0.1,
             "#c51b7d"
            ],
            [
             0.2,
             "#de77ae"
            ],
            [
             0.3,
             "#f1b6da"
            ],
            [
             0.4,
             "#fde0ef"
            ],
            [
             0.5,
             "#f7f7f7"
            ],
            [
             0.6,
             "#e6f5d0"
            ],
            [
             0.7,
             "#b8e186"
            ],
            [
             0.8,
             "#7fbc41"
            ],
            [
             0.9,
             "#4d9221"
            ],
            [
             1,
             "#276419"
            ]
           ],
           "sequential": [
            [
             0,
             "#0d0887"
            ],
            [
             0.1111111111111111,
             "#46039f"
            ],
            [
             0.2222222222222222,
             "#7201a8"
            ],
            [
             0.3333333333333333,
             "#9c179e"
            ],
            [
             0.4444444444444444,
             "#bd3786"
            ],
            [
             0.5555555555555556,
             "#d8576b"
            ],
            [
             0.6666666666666666,
             "#ed7953"
            ],
            [
             0.7777777777777778,
             "#fb9f3a"
            ],
            [
             0.8888888888888888,
             "#fdca26"
            ],
            [
             1,
             "#f0f921"
            ]
           ],
           "sequentialminus": [
            [
             0,
             "#0d0887"
            ],
            [
             0.1111111111111111,
             "#46039f"
            ],
            [
             0.2222222222222222,
             "#7201a8"
            ],
            [
             0.3333333333333333,
             "#9c179e"
            ],
            [
             0.4444444444444444,
             "#bd3786"
            ],
            [
             0.5555555555555556,
             "#d8576b"
            ],
            [
             0.6666666666666666,
             "#ed7953"
            ],
            [
             0.7777777777777778,
             "#fb9f3a"
            ],
            [
             0.8888888888888888,
             "#fdca26"
            ],
            [
             1,
             "#f0f921"
            ]
           ]
          },
          "colorway": [
           "#636efa",
           "#EF553B",
           "#00cc96",
           "#ab63fa",
           "#FFA15A",
           "#19d3f3",
           "#FF6692",
           "#B6E880",
           "#FF97FF",
           "#FECB52"
          ],
          "font": {
           "color": "#2a3f5f"
          },
          "geo": {
           "bgcolor": "white",
           "lakecolor": "white",
           "landcolor": "#E5ECF6",
           "showlakes": true,
           "showland": true,
           "subunitcolor": "white"
          },
          "hoverlabel": {
           "align": "left"
          },
          "hovermode": "closest",
          "mapbox": {
           "style": "light"
          },
          "paper_bgcolor": "white",
          "plot_bgcolor": "#E5ECF6",
          "polar": {
           "angularaxis": {
            "gridcolor": "white",
            "linecolor": "white",
            "ticks": ""
           },
           "bgcolor": "#E5ECF6",
           "radialaxis": {
            "gridcolor": "white",
            "linecolor": "white",
            "ticks": ""
           }
          },
          "scene": {
           "xaxis": {
            "backgroundcolor": "#E5ECF6",
            "gridcolor": "white",
            "gridwidth": 2,
            "linecolor": "white",
            "showbackground": true,
            "ticks": "",
            "zerolinecolor": "white"
           },
           "yaxis": {
            "backgroundcolor": "#E5ECF6",
            "gridcolor": "white",
            "gridwidth": 2,
            "linecolor": "white",
            "showbackground": true,
            "ticks": "",
            "zerolinecolor": "white"
           },
           "zaxis": {
            "backgroundcolor": "#E5ECF6",
            "gridcolor": "white",
            "gridwidth": 2,
            "linecolor": "white",
            "showbackground": true,
            "ticks": "",
            "zerolinecolor": "white"
           }
          },
          "shapedefaults": {
           "line": {
            "color": "#2a3f5f"
           }
          },
          "ternary": {
           "aaxis": {
            "gridcolor": "white",
            "linecolor": "white",
            "ticks": ""
           },
           "baxis": {
            "gridcolor": "white",
            "linecolor": "white",
            "ticks": ""
           },
           "bgcolor": "#E5ECF6",
           "caxis": {
            "gridcolor": "white",
            "linecolor": "white",
            "ticks": ""
           }
          },
          "title": {
           "x": 0.05
          },
          "xaxis": {
           "automargin": true,
           "gridcolor": "white",
           "linecolor": "white",
           "ticks": "",
           "title": {
            "standoff": 15
           },
           "zerolinecolor": "white",
           "zerolinewidth": 2
          },
          "yaxis": {
           "automargin": true,
           "gridcolor": "white",
           "linecolor": "white",
           "ticks": "",
           "title": {
            "standoff": 15
           },
           "zerolinecolor": "white",
           "zerolinewidth": 2
          }
         }
        },
        "title": {
         "text": "Distribution of content ratings on Netflix"
        }
       }
      }
     },
     "metadata": {},
     "output_type": "display_data"
    }
   ],
   "source": [
    "x=df.groupby(['rating']).size().reset_index(name='counts')\n",
    "print(x)\n",
    "pieChart=px.pie(x,values='counts',names='rating', title='Distribution of content ratings on Netflix')\n",
    "pieChart.show()"
   ]
  },
  {
   "cell_type": "code",
   "execution_count": null,
   "metadata": {},
   "outputs": [
    {
     "data": {
      "application/vnd.microsoft.datawrangler.viewer.v0+json": {
       "columns": [
        {
         "name": "index",
         "rawType": "int64",
         "type": "integer"
        },
        {
         "name": "show_id",
         "rawType": "object",
         "type": "string"
        },
        {
         "name": "type",
         "rawType": "object",
         "type": "string"
        },
        {
         "name": "title",
         "rawType": "object",
         "type": "string"
        },
        {
         "name": "director",
         "rawType": "object",
         "type": "string"
        },
        {
         "name": "country",
         "rawType": "object",
         "type": "string"
        },
        {
         "name": "date_added",
         "rawType": "object",
         "type": "string"
        },
        {
         "name": "release_year",
         "rawType": "int64",
         "type": "integer"
        },
        {
         "name": "rating",
         "rawType": "object",
         "type": "string"
        },
        {
         "name": "duration",
         "rawType": "object",
         "type": "string"
        },
        {
         "name": "listed_in",
         "rawType": "object",
         "type": "string"
        }
       ],
       "conversionMethod": "pd.DataFrame",
       "ref": "f7539ce2-2b95-481b-b276-19dec68461e2",
       "rows": [
        [
         "0",
         "s1",
         "Movie",
         "Dick Johnson Is Dead",
         "Kirsten Johnson",
         "United States",
         "9/25/2021",
         "2020",
         "PG-13",
         "90 min",
         "Documentaries"
        ],
        [
         "1",
         "s3",
         "TV Show",
         "Ganglands",
         "Julien Leclercq",
         "France",
         "9/24/2021",
         "2021",
         "TV-MA",
         "1 Season",
         "Crime TV Shows, International TV Shows, TV Action & Adventure"
        ],
        [
         "2",
         "s6",
         "TV Show",
         "Midnight Mass",
         "Mike Flanagan",
         "United States",
         "9/24/2021",
         "2021",
         "TV-MA",
         "1 Season",
         "TV Dramas, TV Horror, TV Mysteries"
        ],
        [
         "3",
         "s14",
         "Movie",
         "Confessions of an Invisible Girl",
         "Bruno Garotti",
         "Brazil",
         "9/22/2021",
         "2021",
         "TV-PG",
         "91 min",
         "Children & Family Movies, Comedies"
        ],
        [
         "4",
         "s8",
         "Movie",
         "Sankofa",
         "Haile Gerima",
         "United States",
         "9/24/2021",
         "1993",
         "TV-MA",
         "125 min",
         "Dramas, Independent Movies, International Movies"
        ],
        [
         "5",
         "s9",
         "TV Show",
         "The Great British Baking Show",
         "Andy Devonshire",
         "United Kingdom",
         "9/24/2021",
         "2021",
         "TV-14",
         "9 Seasons",
         "British TV Shows, Reality TV"
        ],
        [
         "6",
         "s10",
         "Movie",
         "The Starling",
         "Theodore Melfi",
         "United States",
         "9/24/2021",
         "2021",
         "PG-13",
         "104 min",
         "Comedies, Dramas"
        ],
        [
         "7",
         "s939",
         "Movie",
         "Motu Patlu in the Game of Zones",
         "Suhas Kadav",
         "India",
         "5/1/2021",
         "2019",
         "TV-Y7",
         "87 min",
         "Children & Family Movies, Comedies, Music & Musicals"
        ],
        [
         "8",
         "s13",
         "Movie",
         "Je Suis Karl",
         "Christian Schwochow",
         "Germany",
         "9/23/2021",
         "2021",
         "TV-MA",
         "127 min",
         "Dramas, International Movies"
        ],
        [
         "9",
         "s940",
         "Movie",
         "Motu Patlu in Wonderland",
         "Suhas Kadav",
         "India",
         "5/1/2021",
         "2013",
         "TV-Y7",
         "76 min",
         "Children & Family Movies, Music & Musicals"
        ],
        [
         "10",
         "s941",
         "Movie",
         "Motu Patlu: Deep Sea Adventure",
         "Suhas Kadav",
         "India",
         "5/1/2021",
         "2014",
         "TV-Y7",
         "76 min",
         "Children & Family Movies, Comedies"
        ],
        [
         "11",
         "s942",
         "Movie",
         "Motu Patlu: Mission Moon",
         "Suhas Kadav",
         "India",
         "5/1/2021",
         "2013",
         "TV-Y7",
         "71 min",
         "Children & Family Movies, Comedies"
        ],
        [
         "12",
         "s852",
         "Movie",
         "99 Songs (Tamil)",
         "Not Given",
         "Pakistan",
         "5/21/2021",
         "2021",
         "TV-14",
         "131 min",
         "Dramas, International Movies, Music & Musicals"
        ],
        [
         "13",
         "s471",
         "Movie",
         "Bridgerton - The Afterparty",
         "Krysia Plonka, Kristian Mercado",
         "United States",
         "7/13/2021",
         "2021",
         "TV-14",
         "39 min",
         "Movies"
        ],
        [
         "14",
         "s730",
         "Movie",
         "Bling Empire - The Afterparty",
         "Krysia Plonka, Kristian Mercado",
         "United States",
         "6/12/2021",
         "2021",
         "TV-MA",
         "36 min",
         "Movies"
        ],
        [
         "15",
         "s731",
         "Movie",
         "Cobra Kai - The Afterparty",
         "Krysia Plonka, Kristian Mercado",
         "United States",
         "6/12/2021",
         "2021",
         "TV-MA",
         "34 min",
         "Movies"
        ],
        [
         "16",
         "s913",
         "Movie",
         "The Circle - The Afterparty",
         "Krysia Plonka, Kristian Mercado",
         "United States",
         "5/7/2021",
         "2021",
         "TV-14",
         "35 min",
         "Comedies"
        ],
        [
         "17",
         "s4",
         "TV Show",
         "Jailbirds New Orleans",
         "Not Given",
         "Pakistan",
         "9/24/2021",
         "2021",
         "TV-MA",
         "1 Season",
         "Docuseries, Reality TV"
        ],
        [
         "18",
         "s15",
         "TV Show",
         "Crime Stories: India Detectives",
         "Not Given",
         "Pakistan",
         "9/22/2021",
         "2021",
         "TV-MA",
         "1 Season",
         "British TV Shows, Crime TV Shows, Docuseries"
        ],
        [
         "19",
         "s3232",
         "Movie",
         "True: Winter Wishes",
         "Mark Thornton, Todd Kauffman",
         "United States",
         "11/26/2019",
         "2019",
         "TV-Y",
         "46 min",
         "Children & Family Movies"
        ],
        [
         "20",
         "s4832",
         "TV Show",
         "True: Magical Friends",
         "Mark Thornton, Todd Kauffman",
         "United States",
         "6/15/2018",
         "2018",
         "TV-Y",
         "1 Season",
         "Kids' TV"
        ],
        [
         "21",
         "s4833",
         "TV Show",
         "True: Wonderful Wishes",
         "Mark Thornton, Todd Kauffman",
         "United States",
         "6/15/2018",
         "2018",
         "TV-Y",
         "1 Season",
         "Kids' TV"
        ],
        [
         "22",
         "s4857",
         "TV Show",
         "Dance & Sing with True",
         "Mark Thornton, Todd Kauffman",
         "United States",
         "5/18/2018",
         "2018",
         "TV-Y",
         "1 Season",
         "Kids' TV"
        ],
        [
         "23",
         "s7",
         "Movie",
         "My Little Pony: A New Generation",
         "Robert Cullen, José Luis Ucha",
         "Not Given",
         "9/24/2021",
         "2021",
         "PG",
         "91 min",
         "Children & Family Movies"
        ],
        [
         "24",
         "s12",
         "TV Show",
         "Bangkok Breaking",
         "Kongkiat Komesiri",
         "Not Given",
         "9/23/2021",
         "2021",
         "TV-MA",
         "1 Season",
         "Crime TV Shows, International TV Shows, TV Action & Adventure"
        ],
        [
         "25",
         "s17",
         "Movie",
         "Europe's Most Dangerous Man: Otto Skorzeny in Spain",
         "Pedro de Echave García, Pablo Azorín Williams",
         "Not Given",
         "9/22/2021",
         "2020",
         "TV-MA",
         "67 min",
         "Documentaries, International Movies"
        ],
        [
         "26",
         "s7930",
         "Movie",
         "Samudri Lootere",
         "Anirban Majumder",
         "Not Given",
         "6/18/2019",
         "2018",
         "TV-Y",
         "65 min",
         "Children & Family Movies"
        ],
        [
         "27",
         "s21",
         "TV Show",
         "Monsters Inside: The 24 Faces of Billy Milligan",
         "Olivier Megaton",
         "United States",
         "9/22/2021",
         "2021",
         "TV-14",
         "1 Season",
         "Crime TV Shows, Docuseries, International TV Shows"
        ],
        [
         "28",
         "s24",
         "Movie",
         "Go! Go! Cory Carson: Chrissy Takes the Wheel",
         "Alex Woo, Stanley Moore",
         "United States",
         "9/21/2021",
         "2021",
         "TV-Y",
         "61 min",
         "Children & Family Movies"
        ],
        [
         "29",
         "s25",
         "Movie",
         "Jeans",
         "S. Shankar",
         "India",
         "9/21/2021",
         "1998",
         "TV-14",
         "166 min",
         "Comedies, International Movies, Romantic Movies"
        ],
        [
         "30",
         "s28",
         "Movie",
         "Grown Ups",
         "Dennis Dugan",
         "United States",
         "9/20/2021",
         "2010",
         "PG-13",
         "103 min",
         "Comedies"
        ],
        [
         "31",
         "s29",
         "Movie",
         "Dark Skies",
         "Scott Stewart",
         "United States",
         "9/19/2021",
         "2013",
         "PG-13",
         "97 min",
         "Horror Movies, Sci-Fi & Fantasy"
        ],
        [
         "32",
         "s30",
         "Movie",
         "Paranoia",
         "Robert Luketic",
         "United States",
         "9/19/2021",
         "2013",
         "PG-13",
         "106 min",
         "Thrillers"
        ],
        [
         "33",
         "s20",
         "TV Show",
         "Jaguar",
         "Not Given",
         "Pakistan",
         "9/22/2021",
         "2021",
         "TV-MA",
         "1 Season",
         "International TV Shows, Spanish-Language TV Shows, TV Action & Adventure"
        ],
        [
         "34",
         "s32",
         "TV Show",
         "Chicago Party Aunt",
         "Not Given",
         "Pakistan",
         "9/17/2021",
         "2021",
         "TV-MA",
         "1 Season",
         "TV Comedies"
        ],
        [
         "35",
         "s34",
         "TV Show",
         "Squid Game",
         "Not Given",
         "Pakistan",
         "9/17/2021",
         "2021",
         "TV-MA",
         "1 Season",
         "International TV Shows, TV Dramas, TV Thrillers"
        ],
        [
         "36",
         "s35",
         "TV Show",
         "Tayo and Little Wizards",
         "Not Given",
         "Pakistan",
         "9/17/2021",
         "2020",
         "TV-Y7",
         "1 Season",
         "Kids' TV"
        ],
        [
         "37",
         "s75",
         "TV Show",
         "The World's Most Amazing Vacation Rentals",
         "Not Given",
         "Pakistan",
         "9/14/2021",
         "2021",
         "TV-PG",
         "2 Seasons",
         "Reality TV"
        ],
        [
         "38",
         "s84",
         "TV Show",
         "Metal Shop Masters",
         "Not Given",
         "Pakistan",
         "9/10/2021",
         "2021",
         "TV-MA",
         "1 Season",
         "Reality TV"
        ],
        [
         "39",
         "s86",
         "TV Show",
         "Pokémon Master Journeys: The Series",
         "Not Given",
         "Pakistan",
         "9/10/2021",
         "2021",
         "TV-Y7",
         "1 Season",
         "Anime Series, Kids' TV"
        ],
        [
         "40",
         "s88",
         "TV Show",
         "Titipo Titipo",
         "Not Given",
         "Pakistan",
         "9/10/2021",
         "2019",
         "TV-Y",
         "2 Seasons",
         "Kids' TV, Korean TV Shows"
        ],
        [
         "41",
         "s90",
         "TV Show",
         "Mighty Raju",
         "Not Given",
         "Pakistan",
         "9/9/2021",
         "2017",
         "TV-Y7",
         "4 Seasons",
         "Kids' TV"
        ],
        [
         "42",
         "s101",
         "TV Show",
         "Tobot Galaxy Detectives",
         "Not Given",
         "Pakistan",
         "9/7/2021",
         "2019",
         "TV-Y7",
         "2 Seasons",
         "Kids' TV"
        ],
        [
         "43",
         "s122",
         "TV Show",
         "Hotel Del Luna",
         "Not Given",
         "Pakistan",
         "9/2/2021",
         "2019",
         "TV-14",
         "1 Season",
         "International TV Shows, Romantic TV Shows, TV Comedies"
        ],
        [
         "44",
         "s133",
         "TV Show",
         "Brave Animated Series",
         "Not Given",
         "Pakistan",
         "9/1/2021",
         "2021",
         "TV-MA",
         "1 Season",
         "International TV Shows, TV Action & Adventure, TV Comedies"
        ],
        [
         "45",
         "s148",
         "TV Show",
         "How to Be a Cowboy",
         "Not Given",
         "Pakistan",
         "9/1/2021",
         "2021",
         "TV-PG",
         "1 Season",
         "Reality TV"
        ],
        [
         "46",
         "s166",
         "TV Show",
         "Oldsters",
         "Not Given",
         "Pakistan",
         "9/1/2021",
         "2019",
         "TV-MA",
         "1 Season",
         "Crime TV Shows, International TV Shows, Spanish-Language TV Shows"
        ],
        [
         "47",
         "s190",
         "TV Show",
         "Bread Barbershop",
         "Not Given",
         "Pakistan",
         "8/28/2021",
         "2020",
         "TV-Y",
         "2 Seasons",
         "Kids' TV, TV Comedies"
        ],
        [
         "48",
         "s182",
         "TV Show",
         "Turning Point: 9/11 and the War on Terror",
         "Not Given",
         "Pakistan",
         "9/1/2021",
         "2021",
         "TV-14",
         "1 Season",
         "Docuseries"
        ],
        [
         "49",
         "s187",
         "TV Show",
         "Hometown Cha-Cha-Cha",
         "Not Given",
         "Pakistan",
         "8/29/2021",
         "2021",
         "TV-14",
         "1 Season",
         "International TV Shows, Romantic TV Shows, TV Comedies"
        ]
       ],
       "shape": {
        "columns": 10,
        "rows": 8790
       }
      },
      "text/html": [
       "<div>\n",
       "<style scoped>\n",
       "    .dataframe tbody tr th:only-of-type {\n",
       "        vertical-align: middle;\n",
       "    }\n",
       "\n",
       "    .dataframe tbody tr th {\n",
       "        vertical-align: top;\n",
       "    }\n",
       "\n",
       "    .dataframe thead th {\n",
       "        text-align: right;\n",
       "    }\n",
       "</style>\n",
       "<table border=\"1\" class=\"dataframe\">\n",
       "  <thead>\n",
       "    <tr style=\"text-align: right;\">\n",
       "      <th></th>\n",
       "      <th>show_id</th>\n",
       "      <th>type</th>\n",
       "      <th>title</th>\n",
       "      <th>director</th>\n",
       "      <th>country</th>\n",
       "      <th>date_added</th>\n",
       "      <th>release_year</th>\n",
       "      <th>rating</th>\n",
       "      <th>duration</th>\n",
       "      <th>listed_in</th>\n",
       "    </tr>\n",
       "  </thead>\n",
       "  <tbody>\n",
       "    <tr>\n",
       "      <th>0</th>\n",
       "      <td>s1</td>\n",
       "      <td>Movie</td>\n",
       "      <td>Dick Johnson Is Dead</td>\n",
       "      <td>Kirsten Johnson</td>\n",
       "      <td>United States</td>\n",
       "      <td>9/25/2021</td>\n",
       "      <td>2020</td>\n",
       "      <td>PG-13</td>\n",
       "      <td>90 min</td>\n",
       "      <td>Documentaries</td>\n",
       "    </tr>\n",
       "    <tr>\n",
       "      <th>1</th>\n",
       "      <td>s3</td>\n",
       "      <td>TV Show</td>\n",
       "      <td>Ganglands</td>\n",
       "      <td>Julien Leclercq</td>\n",
       "      <td>France</td>\n",
       "      <td>9/24/2021</td>\n",
       "      <td>2021</td>\n",
       "      <td>TV-MA</td>\n",
       "      <td>1 Season</td>\n",
       "      <td>Crime TV Shows, International TV Shows, TV Act...</td>\n",
       "    </tr>\n",
       "    <tr>\n",
       "      <th>2</th>\n",
       "      <td>s6</td>\n",
       "      <td>TV Show</td>\n",
       "      <td>Midnight Mass</td>\n",
       "      <td>Mike Flanagan</td>\n",
       "      <td>United States</td>\n",
       "      <td>9/24/2021</td>\n",
       "      <td>2021</td>\n",
       "      <td>TV-MA</td>\n",
       "      <td>1 Season</td>\n",
       "      <td>TV Dramas, TV Horror, TV Mysteries</td>\n",
       "    </tr>\n",
       "    <tr>\n",
       "      <th>3</th>\n",
       "      <td>s14</td>\n",
       "      <td>Movie</td>\n",
       "      <td>Confessions of an Invisible Girl</td>\n",
       "      <td>Bruno Garotti</td>\n",
       "      <td>Brazil</td>\n",
       "      <td>9/22/2021</td>\n",
       "      <td>2021</td>\n",
       "      <td>TV-PG</td>\n",
       "      <td>91 min</td>\n",
       "      <td>Children &amp; Family Movies, Comedies</td>\n",
       "    </tr>\n",
       "    <tr>\n",
       "      <th>4</th>\n",
       "      <td>s8</td>\n",
       "      <td>Movie</td>\n",
       "      <td>Sankofa</td>\n",
       "      <td>Haile Gerima</td>\n",
       "      <td>United States</td>\n",
       "      <td>9/24/2021</td>\n",
       "      <td>1993</td>\n",
       "      <td>TV-MA</td>\n",
       "      <td>125 min</td>\n",
       "      <td>Dramas, Independent Movies, International Movies</td>\n",
       "    </tr>\n",
       "    <tr>\n",
       "      <th>...</th>\n",
       "      <td>...</td>\n",
       "      <td>...</td>\n",
       "      <td>...</td>\n",
       "      <td>...</td>\n",
       "      <td>...</td>\n",
       "      <td>...</td>\n",
       "      <td>...</td>\n",
       "      <td>...</td>\n",
       "      <td>...</td>\n",
       "      <td>...</td>\n",
       "    </tr>\n",
       "    <tr>\n",
       "      <th>8785</th>\n",
       "      <td>s8797</td>\n",
       "      <td>TV Show</td>\n",
       "      <td>Yunus Emre</td>\n",
       "      <td>Not Given</td>\n",
       "      <td>Turkey</td>\n",
       "      <td>1/17/2017</td>\n",
       "      <td>2016</td>\n",
       "      <td>TV-PG</td>\n",
       "      <td>2 Seasons</td>\n",
       "      <td>International TV Shows, TV Dramas</td>\n",
       "    </tr>\n",
       "    <tr>\n",
       "      <th>8786</th>\n",
       "      <td>s8798</td>\n",
       "      <td>TV Show</td>\n",
       "      <td>Zak Storm</td>\n",
       "      <td>Not Given</td>\n",
       "      <td>United States</td>\n",
       "      <td>9/13/2018</td>\n",
       "      <td>2016</td>\n",
       "      <td>TV-Y7</td>\n",
       "      <td>3 Seasons</td>\n",
       "      <td>Kids' TV</td>\n",
       "    </tr>\n",
       "    <tr>\n",
       "      <th>8787</th>\n",
       "      <td>s8801</td>\n",
       "      <td>TV Show</td>\n",
       "      <td>Zindagi Gulzar Hai</td>\n",
       "      <td>Not Given</td>\n",
       "      <td>Pakistan</td>\n",
       "      <td>12/15/2016</td>\n",
       "      <td>2012</td>\n",
       "      <td>TV-PG</td>\n",
       "      <td>1 Season</td>\n",
       "      <td>International TV Shows, Romantic TV Shows, TV ...</td>\n",
       "    </tr>\n",
       "    <tr>\n",
       "      <th>8788</th>\n",
       "      <td>s8784</td>\n",
       "      <td>TV Show</td>\n",
       "      <td>Yoko</td>\n",
       "      <td>Not Given</td>\n",
       "      <td>Pakistan</td>\n",
       "      <td>6/23/2018</td>\n",
       "      <td>2016</td>\n",
       "      <td>TV-Y</td>\n",
       "      <td>1 Season</td>\n",
       "      <td>Kids' TV</td>\n",
       "    </tr>\n",
       "    <tr>\n",
       "      <th>8789</th>\n",
       "      <td>s8786</td>\n",
       "      <td>TV Show</td>\n",
       "      <td>YOM</td>\n",
       "      <td>Not Given</td>\n",
       "      <td>Pakistan</td>\n",
       "      <td>6/7/2018</td>\n",
       "      <td>2016</td>\n",
       "      <td>TV-Y7</td>\n",
       "      <td>1 Season</td>\n",
       "      <td>Kids' TV</td>\n",
       "    </tr>\n",
       "  </tbody>\n",
       "</table>\n",
       "<p>8790 rows × 10 columns</p>\n",
       "</div>"
      ],
      "text/plain": [
       "     show_id     type                             title         director  \\\n",
       "0         s1    Movie              Dick Johnson Is Dead  Kirsten Johnson   \n",
       "1         s3  TV Show                         Ganglands  Julien Leclercq   \n",
       "2         s6  TV Show                     Midnight Mass    Mike Flanagan   \n",
       "3        s14    Movie  Confessions of an Invisible Girl    Bruno Garotti   \n",
       "4         s8    Movie                           Sankofa     Haile Gerima   \n",
       "...      ...      ...                               ...              ...   \n",
       "8785   s8797  TV Show                        Yunus Emre        Not Given   \n",
       "8786   s8798  TV Show                         Zak Storm        Not Given   \n",
       "8787   s8801  TV Show                Zindagi Gulzar Hai        Not Given   \n",
       "8788   s8784  TV Show                              Yoko        Not Given   \n",
       "8789   s8786  TV Show                               YOM        Not Given   \n",
       "\n",
       "            country  date_added  release_year rating   duration  \\\n",
       "0     United States   9/25/2021          2020  PG-13     90 min   \n",
       "1            France   9/24/2021          2021  TV-MA   1 Season   \n",
       "2     United States   9/24/2021          2021  TV-MA   1 Season   \n",
       "3            Brazil   9/22/2021          2021  TV-PG     91 min   \n",
       "4     United States   9/24/2021          1993  TV-MA    125 min   \n",
       "...             ...         ...           ...    ...        ...   \n",
       "8785         Turkey   1/17/2017          2016  TV-PG  2 Seasons   \n",
       "8786  United States   9/13/2018          2016  TV-Y7  3 Seasons   \n",
       "8787       Pakistan  12/15/2016          2012  TV-PG   1 Season   \n",
       "8788       Pakistan   6/23/2018          2016   TV-Y   1 Season   \n",
       "8789       Pakistan    6/7/2018          2016  TV-Y7   1 Season   \n",
       "\n",
       "                                              listed_in  \n",
       "0                                         Documentaries  \n",
       "1     Crime TV Shows, International TV Shows, TV Act...  \n",
       "2                    TV Dramas, TV Horror, TV Mysteries  \n",
       "3                    Children & Family Movies, Comedies  \n",
       "4      Dramas, Independent Movies, International Movies  \n",
       "...                                                 ...  \n",
       "8785                  International TV Shows, TV Dramas  \n",
       "8786                                           Kids' TV  \n",
       "8787  International TV Shows, Romantic TV Shows, TV ...  \n",
       "8788                                           Kids' TV  \n",
       "8789                                           Kids' TV  \n",
       "\n",
       "[8790 rows x 10 columns]"
      ]
     },
     "execution_count": 14,
     "metadata": {},
     "output_type": "execute_result"
    }
   ],
   "source": [
    "df"
   ]
  },
  {
   "cell_type": "code",
   "execution_count": null,
   "metadata": {},
   "outputs": [
    {
     "data": {
      "application/vnd.microsoft.datawrangler.viewer.v0+json": {
       "columns": [
        {
         "name": "index",
         "rawType": "int64",
         "type": "integer"
        },
        {
         "name": "show_id",
         "rawType": "object",
         "type": "string"
        },
        {
         "name": "type",
         "rawType": "object",
         "type": "string"
        },
        {
         "name": "title",
         "rawType": "object",
         "type": "string"
        },
        {
         "name": "director",
         "rawType": "object",
         "type": "string"
        },
        {
         "name": "country",
         "rawType": "object",
         "type": "string"
        },
        {
         "name": "date_added",
         "rawType": "object",
         "type": "string"
        },
        {
         "name": "release_year",
         "rawType": "int64",
         "type": "integer"
        },
        {
         "name": "rating",
         "rawType": "object",
         "type": "string"
        },
        {
         "name": "duration",
         "rawType": "object",
         "type": "string"
        },
        {
         "name": "listed_in",
         "rawType": "object",
         "type": "string"
        }
       ],
       "conversionMethod": "pd.DataFrame",
       "ref": "33e91024-1ab1-4279-8f29-d0da5772601b",
       "rows": [
        [
         "0",
         "s1",
         "Movie",
         "Dick Johnson Is Dead",
         "Kirsten Johnson",
         "United States",
         "9/25/2021",
         "2020",
         "PG-13",
         "90 min",
         "Documentaries"
        ],
        [
         "1",
         "s3",
         "TV Show",
         "Ganglands",
         "Julien Leclercq",
         "France",
         "9/24/2021",
         "2021",
         "TV-MA",
         "1 Season",
         "Crime TV Shows, International TV Shows, TV Action & Adventure"
        ],
        [
         "2",
         "s6",
         "TV Show",
         "Midnight Mass",
         "Mike Flanagan",
         "United States",
         "9/24/2021",
         "2021",
         "TV-MA",
         "1 Season",
         "TV Dramas, TV Horror, TV Mysteries"
        ],
        [
         "3",
         "s14",
         "Movie",
         "Confessions of an Invisible Girl",
         "Bruno Garotti",
         "Brazil",
         "9/22/2021",
         "2021",
         "TV-PG",
         "91 min",
         "Children & Family Movies, Comedies"
        ],
        [
         "4",
         "s8",
         "Movie",
         "Sankofa",
         "Haile Gerima",
         "United States",
         "9/24/2021",
         "1993",
         "TV-MA",
         "125 min",
         "Dramas, Independent Movies, International Movies"
        ],
        [
         "5",
         "s9",
         "TV Show",
         "The Great British Baking Show",
         "Andy Devonshire",
         "United Kingdom",
         "9/24/2021",
         "2021",
         "TV-14",
         "9 Seasons",
         "British TV Shows, Reality TV"
        ],
        [
         "6",
         "s10",
         "Movie",
         "The Starling",
         "Theodore Melfi",
         "United States",
         "9/24/2021",
         "2021",
         "PG-13",
         "104 min",
         "Comedies, Dramas"
        ],
        [
         "7",
         "s939",
         "Movie",
         "Motu Patlu in the Game of Zones",
         "Suhas Kadav",
         "India",
         "5/1/2021",
         "2019",
         "TV-Y7",
         "87 min",
         "Children & Family Movies, Comedies, Music & Musicals"
        ],
        [
         "8",
         "s13",
         "Movie",
         "Je Suis Karl",
         "Christian Schwochow",
         "Germany",
         "9/23/2021",
         "2021",
         "TV-MA",
         "127 min",
         "Dramas, International Movies"
        ],
        [
         "9",
         "s940",
         "Movie",
         "Motu Patlu in Wonderland",
         "Suhas Kadav",
         "India",
         "5/1/2021",
         "2013",
         "TV-Y7",
         "76 min",
         "Children & Family Movies, Music & Musicals"
        ],
        [
         "10",
         "s941",
         "Movie",
         "Motu Patlu: Deep Sea Adventure",
         "Suhas Kadav",
         "India",
         "5/1/2021",
         "2014",
         "TV-Y7",
         "76 min",
         "Children & Family Movies, Comedies"
        ],
        [
         "11",
         "s942",
         "Movie",
         "Motu Patlu: Mission Moon",
         "Suhas Kadav",
         "India",
         "5/1/2021",
         "2013",
         "TV-Y7",
         "71 min",
         "Children & Family Movies, Comedies"
        ],
        [
         "12",
         "s852",
         "Movie",
         "99 Songs (Tamil)",
         "Director not specified",
         "Pakistan",
         "5/21/2021",
         "2021",
         "TV-14",
         "131 min",
         "Dramas, International Movies, Music & Musicals"
        ],
        [
         "13",
         "s471",
         "Movie",
         "Bridgerton - The Afterparty",
         "Krysia Plonka, Kristian Mercado",
         "United States",
         "7/13/2021",
         "2021",
         "TV-14",
         "39 min",
         "Movies"
        ],
        [
         "14",
         "s730",
         "Movie",
         "Bling Empire - The Afterparty",
         "Krysia Plonka, Kristian Mercado",
         "United States",
         "6/12/2021",
         "2021",
         "TV-MA",
         "36 min",
         "Movies"
        ],
        [
         "15",
         "s731",
         "Movie",
         "Cobra Kai - The Afterparty",
         "Krysia Plonka, Kristian Mercado",
         "United States",
         "6/12/2021",
         "2021",
         "TV-MA",
         "34 min",
         "Movies"
        ],
        [
         "16",
         "s913",
         "Movie",
         "The Circle - The Afterparty",
         "Krysia Plonka, Kristian Mercado",
         "United States",
         "5/7/2021",
         "2021",
         "TV-14",
         "35 min",
         "Comedies"
        ],
        [
         "17",
         "s4",
         "TV Show",
         "Jailbirds New Orleans",
         "Director not specified",
         "Pakistan",
         "9/24/2021",
         "2021",
         "TV-MA",
         "1 Season",
         "Docuseries, Reality TV"
        ],
        [
         "18",
         "s15",
         "TV Show",
         "Crime Stories: India Detectives",
         "Director not specified",
         "Pakistan",
         "9/22/2021",
         "2021",
         "TV-MA",
         "1 Season",
         "British TV Shows, Crime TV Shows, Docuseries"
        ],
        [
         "19",
         "s3232",
         "Movie",
         "True: Winter Wishes",
         "Mark Thornton, Todd Kauffman",
         "United States",
         "11/26/2019",
         "2019",
         "TV-Y",
         "46 min",
         "Children & Family Movies"
        ],
        [
         "20",
         "s4832",
         "TV Show",
         "True: Magical Friends",
         "Mark Thornton, Todd Kauffman",
         "United States",
         "6/15/2018",
         "2018",
         "TV-Y",
         "1 Season",
         "Kids' TV"
        ],
        [
         "21",
         "s4833",
         "TV Show",
         "True: Wonderful Wishes",
         "Mark Thornton, Todd Kauffman",
         "United States",
         "6/15/2018",
         "2018",
         "TV-Y",
         "1 Season",
         "Kids' TV"
        ],
        [
         "22",
         "s4857",
         "TV Show",
         "Dance & Sing with True",
         "Mark Thornton, Todd Kauffman",
         "United States",
         "5/18/2018",
         "2018",
         "TV-Y",
         "1 Season",
         "Kids' TV"
        ],
        [
         "23",
         "s7",
         "Movie",
         "My Little Pony: A New Generation",
         "Robert Cullen, José Luis Ucha",
         "Director not specified",
         "9/24/2021",
         "2021",
         "PG",
         "91 min",
         "Children & Family Movies"
        ],
        [
         "24",
         "s12",
         "TV Show",
         "Bangkok Breaking",
         "Kongkiat Komesiri",
         "Director not specified",
         "9/23/2021",
         "2021",
         "TV-MA",
         "1 Season",
         "Crime TV Shows, International TV Shows, TV Action & Adventure"
        ],
        [
         "25",
         "s17",
         "Movie",
         "Europe's Most Dangerous Man: Otto Skorzeny in Spain",
         "Pedro de Echave García, Pablo Azorín Williams",
         "Director not specified",
         "9/22/2021",
         "2020",
         "TV-MA",
         "67 min",
         "Documentaries, International Movies"
        ],
        [
         "26",
         "s7930",
         "Movie",
         "Samudri Lootere",
         "Anirban Majumder",
         "Director not specified",
         "6/18/2019",
         "2018",
         "TV-Y",
         "65 min",
         "Children & Family Movies"
        ],
        [
         "27",
         "s21",
         "TV Show",
         "Monsters Inside: The 24 Faces of Billy Milligan",
         "Olivier Megaton",
         "United States",
         "9/22/2021",
         "2021",
         "TV-14",
         "1 Season",
         "Crime TV Shows, Docuseries, International TV Shows"
        ],
        [
         "28",
         "s24",
         "Movie",
         "Go! Go! Cory Carson: Chrissy Takes the Wheel",
         "Alex Woo, Stanley Moore",
         "United States",
         "9/21/2021",
         "2021",
         "TV-Y",
         "61 min",
         "Children & Family Movies"
        ],
        [
         "29",
         "s25",
         "Movie",
         "Jeans",
         "S. Shankar",
         "India",
         "9/21/2021",
         "1998",
         "TV-14",
         "166 min",
         "Comedies, International Movies, Romantic Movies"
        ],
        [
         "30",
         "s28",
         "Movie",
         "Grown Ups",
         "Dennis Dugan",
         "United States",
         "9/20/2021",
         "2010",
         "PG-13",
         "103 min",
         "Comedies"
        ],
        [
         "31",
         "s29",
         "Movie",
         "Dark Skies",
         "Scott Stewart",
         "United States",
         "9/19/2021",
         "2013",
         "PG-13",
         "97 min",
         "Horror Movies, Sci-Fi & Fantasy"
        ],
        [
         "32",
         "s30",
         "Movie",
         "Paranoia",
         "Robert Luketic",
         "United States",
         "9/19/2021",
         "2013",
         "PG-13",
         "106 min",
         "Thrillers"
        ],
        [
         "33",
         "s20",
         "TV Show",
         "Jaguar",
         "Director not specified",
         "Pakistan",
         "9/22/2021",
         "2021",
         "TV-MA",
         "1 Season",
         "International TV Shows, Spanish-Language TV Shows, TV Action & Adventure"
        ],
        [
         "34",
         "s32",
         "TV Show",
         "Chicago Party Aunt",
         "Director not specified",
         "Pakistan",
         "9/17/2021",
         "2021",
         "TV-MA",
         "1 Season",
         "TV Comedies"
        ],
        [
         "35",
         "s34",
         "TV Show",
         "Squid Game",
         "Director not specified",
         "Pakistan",
         "9/17/2021",
         "2021",
         "TV-MA",
         "1 Season",
         "International TV Shows, TV Dramas, TV Thrillers"
        ],
        [
         "36",
         "s35",
         "TV Show",
         "Tayo and Little Wizards",
         "Director not specified",
         "Pakistan",
         "9/17/2021",
         "2020",
         "TV-Y7",
         "1 Season",
         "Kids' TV"
        ],
        [
         "37",
         "s75",
         "TV Show",
         "The World's Most Amazing Vacation Rentals",
         "Director not specified",
         "Pakistan",
         "9/14/2021",
         "2021",
         "TV-PG",
         "2 Seasons",
         "Reality TV"
        ],
        [
         "38",
         "s84",
         "TV Show",
         "Metal Shop Masters",
         "Director not specified",
         "Pakistan",
         "9/10/2021",
         "2021",
         "TV-MA",
         "1 Season",
         "Reality TV"
        ],
        [
         "39",
         "s86",
         "TV Show",
         "Pokémon Master Journeys: The Series",
         "Director not specified",
         "Pakistan",
         "9/10/2021",
         "2021",
         "TV-Y7",
         "1 Season",
         "Anime Series, Kids' TV"
        ],
        [
         "40",
         "s88",
         "TV Show",
         "Titipo Titipo",
         "Director not specified",
         "Pakistan",
         "9/10/2021",
         "2019",
         "TV-Y",
         "2 Seasons",
         "Kids' TV, Korean TV Shows"
        ],
        [
         "41",
         "s90",
         "TV Show",
         "Mighty Raju",
         "Director not specified",
         "Pakistan",
         "9/9/2021",
         "2017",
         "TV-Y7",
         "4 Seasons",
         "Kids' TV"
        ],
        [
         "42",
         "s101",
         "TV Show",
         "Tobot Galaxy Detectives",
         "Director not specified",
         "Pakistan",
         "9/7/2021",
         "2019",
         "TV-Y7",
         "2 Seasons",
         "Kids' TV"
        ],
        [
         "43",
         "s122",
         "TV Show",
         "Hotel Del Luna",
         "Director not specified",
         "Pakistan",
         "9/2/2021",
         "2019",
         "TV-14",
         "1 Season",
         "International TV Shows, Romantic TV Shows, TV Comedies"
        ],
        [
         "44",
         "s133",
         "TV Show",
         "Brave Animated Series",
         "Director not specified",
         "Pakistan",
         "9/1/2021",
         "2021",
         "TV-MA",
         "1 Season",
         "International TV Shows, TV Action & Adventure, TV Comedies"
        ],
        [
         "45",
         "s148",
         "TV Show",
         "How to Be a Cowboy",
         "Director not specified",
         "Pakistan",
         "9/1/2021",
         "2021",
         "TV-PG",
         "1 Season",
         "Reality TV"
        ],
        [
         "46",
         "s166",
         "TV Show",
         "Oldsters",
         "Director not specified",
         "Pakistan",
         "9/1/2021",
         "2019",
         "TV-MA",
         "1 Season",
         "Crime TV Shows, International TV Shows, Spanish-Language TV Shows"
        ],
        [
         "47",
         "s190",
         "TV Show",
         "Bread Barbershop",
         "Director not specified",
         "Pakistan",
         "8/28/2021",
         "2020",
         "TV-Y",
         "2 Seasons",
         "Kids' TV, TV Comedies"
        ],
        [
         "48",
         "s182",
         "TV Show",
         "Turning Point: 9/11 and the War on Terror",
         "Director not specified",
         "Pakistan",
         "9/1/2021",
         "2021",
         "TV-14",
         "1 Season",
         "Docuseries"
        ],
        [
         "49",
         "s187",
         "TV Show",
         "Hometown Cha-Cha-Cha",
         "Director not specified",
         "Pakistan",
         "8/29/2021",
         "2021",
         "TV-14",
         "1 Season",
         "International TV Shows, Romantic TV Shows, TV Comedies"
        ]
       ],
       "shape": {
        "columns": 10,
        "rows": 8790
       }
      },
      "text/html": [
       "<div>\n",
       "<style scoped>\n",
       "    .dataframe tbody tr th:only-of-type {\n",
       "        vertical-align: middle;\n",
       "    }\n",
       "\n",
       "    .dataframe tbody tr th {\n",
       "        vertical-align: top;\n",
       "    }\n",
       "\n",
       "    .dataframe thead th {\n",
       "        text-align: right;\n",
       "    }\n",
       "</style>\n",
       "<table border=\"1\" class=\"dataframe\">\n",
       "  <thead>\n",
       "    <tr style=\"text-align: right;\">\n",
       "      <th></th>\n",
       "      <th>show_id</th>\n",
       "      <th>type</th>\n",
       "      <th>title</th>\n",
       "      <th>director</th>\n",
       "      <th>country</th>\n",
       "      <th>date_added</th>\n",
       "      <th>release_year</th>\n",
       "      <th>rating</th>\n",
       "      <th>duration</th>\n",
       "      <th>listed_in</th>\n",
       "    </tr>\n",
       "  </thead>\n",
       "  <tbody>\n",
       "    <tr>\n",
       "      <th>0</th>\n",
       "      <td>s1</td>\n",
       "      <td>Movie</td>\n",
       "      <td>Dick Johnson Is Dead</td>\n",
       "      <td>Kirsten Johnson</td>\n",
       "      <td>United States</td>\n",
       "      <td>9/25/2021</td>\n",
       "      <td>2020</td>\n",
       "      <td>PG-13</td>\n",
       "      <td>90 min</td>\n",
       "      <td>Documentaries</td>\n",
       "    </tr>\n",
       "    <tr>\n",
       "      <th>1</th>\n",
       "      <td>s3</td>\n",
       "      <td>TV Show</td>\n",
       "      <td>Ganglands</td>\n",
       "      <td>Julien Leclercq</td>\n",
       "      <td>France</td>\n",
       "      <td>9/24/2021</td>\n",
       "      <td>2021</td>\n",
       "      <td>TV-MA</td>\n",
       "      <td>1 Season</td>\n",
       "      <td>Crime TV Shows, International TV Shows, TV Act...</td>\n",
       "    </tr>\n",
       "    <tr>\n",
       "      <th>2</th>\n",
       "      <td>s6</td>\n",
       "      <td>TV Show</td>\n",
       "      <td>Midnight Mass</td>\n",
       "      <td>Mike Flanagan</td>\n",
       "      <td>United States</td>\n",
       "      <td>9/24/2021</td>\n",
       "      <td>2021</td>\n",
       "      <td>TV-MA</td>\n",
       "      <td>1 Season</td>\n",
       "      <td>TV Dramas, TV Horror, TV Mysteries</td>\n",
       "    </tr>\n",
       "    <tr>\n",
       "      <th>3</th>\n",
       "      <td>s14</td>\n",
       "      <td>Movie</td>\n",
       "      <td>Confessions of an Invisible Girl</td>\n",
       "      <td>Bruno Garotti</td>\n",
       "      <td>Brazil</td>\n",
       "      <td>9/22/2021</td>\n",
       "      <td>2021</td>\n",
       "      <td>TV-PG</td>\n",
       "      <td>91 min</td>\n",
       "      <td>Children &amp; Family Movies, Comedies</td>\n",
       "    </tr>\n",
       "    <tr>\n",
       "      <th>4</th>\n",
       "      <td>s8</td>\n",
       "      <td>Movie</td>\n",
       "      <td>Sankofa</td>\n",
       "      <td>Haile Gerima</td>\n",
       "      <td>United States</td>\n",
       "      <td>9/24/2021</td>\n",
       "      <td>1993</td>\n",
       "      <td>TV-MA</td>\n",
       "      <td>125 min</td>\n",
       "      <td>Dramas, Independent Movies, International Movies</td>\n",
       "    </tr>\n",
       "    <tr>\n",
       "      <th>...</th>\n",
       "      <td>...</td>\n",
       "      <td>...</td>\n",
       "      <td>...</td>\n",
       "      <td>...</td>\n",
       "      <td>...</td>\n",
       "      <td>...</td>\n",
       "      <td>...</td>\n",
       "      <td>...</td>\n",
       "      <td>...</td>\n",
       "      <td>...</td>\n",
       "    </tr>\n",
       "    <tr>\n",
       "      <th>8785</th>\n",
       "      <td>s8797</td>\n",
       "      <td>TV Show</td>\n",
       "      <td>Yunus Emre</td>\n",
       "      <td>Director not specified</td>\n",
       "      <td>Turkey</td>\n",
       "      <td>1/17/2017</td>\n",
       "      <td>2016</td>\n",
       "      <td>TV-PG</td>\n",
       "      <td>2 Seasons</td>\n",
       "      <td>International TV Shows, TV Dramas</td>\n",
       "    </tr>\n",
       "    <tr>\n",
       "      <th>8786</th>\n",
       "      <td>s8798</td>\n",
       "      <td>TV Show</td>\n",
       "      <td>Zak Storm</td>\n",
       "      <td>Director not specified</td>\n",
       "      <td>United States</td>\n",
       "      <td>9/13/2018</td>\n",
       "      <td>2016</td>\n",
       "      <td>TV-Y7</td>\n",
       "      <td>3 Seasons</td>\n",
       "      <td>Kids' TV</td>\n",
       "    </tr>\n",
       "    <tr>\n",
       "      <th>8787</th>\n",
       "      <td>s8801</td>\n",
       "      <td>TV Show</td>\n",
       "      <td>Zindagi Gulzar Hai</td>\n",
       "      <td>Director not specified</td>\n",
       "      <td>Pakistan</td>\n",
       "      <td>12/15/2016</td>\n",
       "      <td>2012</td>\n",
       "      <td>TV-PG</td>\n",
       "      <td>1 Season</td>\n",
       "      <td>International TV Shows, Romantic TV Shows, TV ...</td>\n",
       "    </tr>\n",
       "    <tr>\n",
       "      <th>8788</th>\n",
       "      <td>s8784</td>\n",
       "      <td>TV Show</td>\n",
       "      <td>Yoko</td>\n",
       "      <td>Director not specified</td>\n",
       "      <td>Pakistan</td>\n",
       "      <td>6/23/2018</td>\n",
       "      <td>2016</td>\n",
       "      <td>TV-Y</td>\n",
       "      <td>1 Season</td>\n",
       "      <td>Kids' TV</td>\n",
       "    </tr>\n",
       "    <tr>\n",
       "      <th>8789</th>\n",
       "      <td>s8786</td>\n",
       "      <td>TV Show</td>\n",
       "      <td>YOM</td>\n",
       "      <td>Director not specified</td>\n",
       "      <td>Pakistan</td>\n",
       "      <td>6/7/2018</td>\n",
       "      <td>2016</td>\n",
       "      <td>TV-Y7</td>\n",
       "      <td>1 Season</td>\n",
       "      <td>Kids' TV</td>\n",
       "    </tr>\n",
       "  </tbody>\n",
       "</table>\n",
       "<p>8790 rows × 10 columns</p>\n",
       "</div>"
      ],
      "text/plain": [
       "     show_id     type                             title  \\\n",
       "0         s1    Movie              Dick Johnson Is Dead   \n",
       "1         s3  TV Show                         Ganglands   \n",
       "2         s6  TV Show                     Midnight Mass   \n",
       "3        s14    Movie  Confessions of an Invisible Girl   \n",
       "4         s8    Movie                           Sankofa   \n",
       "...      ...      ...                               ...   \n",
       "8785   s8797  TV Show                        Yunus Emre   \n",
       "8786   s8798  TV Show                         Zak Storm   \n",
       "8787   s8801  TV Show                Zindagi Gulzar Hai   \n",
       "8788   s8784  TV Show                              Yoko   \n",
       "8789   s8786  TV Show                               YOM   \n",
       "\n",
       "                    director        country  date_added  release_year rating  \\\n",
       "0            Kirsten Johnson  United States   9/25/2021          2020  PG-13   \n",
       "1            Julien Leclercq         France   9/24/2021          2021  TV-MA   \n",
       "2              Mike Flanagan  United States   9/24/2021          2021  TV-MA   \n",
       "3              Bruno Garotti         Brazil   9/22/2021          2021  TV-PG   \n",
       "4               Haile Gerima  United States   9/24/2021          1993  TV-MA   \n",
       "...                      ...            ...         ...           ...    ...   \n",
       "8785  Director not specified         Turkey   1/17/2017          2016  TV-PG   \n",
       "8786  Director not specified  United States   9/13/2018          2016  TV-Y7   \n",
       "8787  Director not specified       Pakistan  12/15/2016          2012  TV-PG   \n",
       "8788  Director not specified       Pakistan   6/23/2018          2016   TV-Y   \n",
       "8789  Director not specified       Pakistan    6/7/2018          2016  TV-Y7   \n",
       "\n",
       "       duration                                          listed_in  \n",
       "0        90 min                                      Documentaries  \n",
       "1      1 Season  Crime TV Shows, International TV Shows, TV Act...  \n",
       "2      1 Season                 TV Dramas, TV Horror, TV Mysteries  \n",
       "3        91 min                 Children & Family Movies, Comedies  \n",
       "4       125 min   Dramas, Independent Movies, International Movies  \n",
       "...         ...                                                ...  \n",
       "8785  2 Seasons                  International TV Shows, TV Dramas  \n",
       "8786  3 Seasons                                           Kids' TV  \n",
       "8787   1 Season  International TV Shows, Romantic TV Shows, TV ...  \n",
       "8788   1 Season                                           Kids' TV  \n",
       "8789   1 Season                                           Kids' TV  \n",
       "\n",
       "[8790 rows x 10 columns]"
      ]
     },
     "execution_count": 15,
     "metadata": {},
     "output_type": "execute_result"
    }
   ],
   "source": [
    "df.replace('Not Given','Director not specified',inplace=True)\n",
    "df"
   ]
  },
  {
   "cell_type": "markdown",
   "metadata": {},
   "source": [
    "Analyzing the Top 5 Directiors on Netflix"
   ]
  },
  {
   "cell_type": "code",
   "execution_count": null,
   "metadata": {},
   "outputs": [
    {
     "name": "stdout",
     "output_type": "stream",
     "text": [
      "Empty DataFrame\n",
      "Columns: []\n",
      "Index: []\n"
     ]
    }
   ],
   "source": [
    "directors_list=pd.DataFrame()\n",
    "print(directors_list)"
   ]
  },
  {
   "cell_type": "code",
   "execution_count": null,
   "metadata": {},
   "outputs": [
    {
     "name": "stdout",
     "output_type": "stream",
     "text": [
      "0     0           Kirsten Johnson\n",
      "1     0           Julien Leclercq\n",
      "2     0             Mike Flanagan\n",
      "3     0             Bruno Garotti\n",
      "4     0              Haile Gerima\n",
      "                    ...          \n",
      "8785  0    Director not specified\n",
      "8786  0    Director not specified\n",
      "8787  0    Director not specified\n",
      "8788  0    Director not specified\n",
      "8789  0    Director not specified\n",
      "Length: 9610, dtype: object\n"
     ]
    }
   ],
   "source": [
    "directors_list=df['director'].str.split(',',expand=True).stack()\n",
    "print(directors_list)"
   ]
  },
  {
   "cell_type": "code",
   "execution_count": null,
   "metadata": {},
   "outputs": [
    {
     "name": "stdout",
     "output_type": "stream",
     "text": [
      "                             0\n",
      "0    0         Kirsten Johnson\n",
      "1    0         Julien Leclercq\n",
      "2    0           Mike Flanagan\n",
      "3    0           Bruno Garotti\n",
      "4    0            Haile Gerima\n",
      "...                        ...\n",
      "8785 0  Director not specified\n",
      "8786 0  Director not specified\n",
      "8787 0  Director not specified\n",
      "8788 0  Director not specified\n",
      "8789 0  Director not specified\n",
      "\n",
      "[9610 rows x 1 columns]\n"
     ]
    }
   ],
   "source": [
    "directors_list=directors_list.to_frame()\n",
    "print(directors_list)"
   ]
  },
  {
   "cell_type": "code",
   "execution_count": null,
   "metadata": {},
   "outputs": [
    {
     "name": "stdout",
     "output_type": "stream",
     "text": [
      "                      Director\n",
      "0    0         Kirsten Johnson\n",
      "1    0         Julien Leclercq\n",
      "2    0           Mike Flanagan\n",
      "3    0           Bruno Garotti\n",
      "4    0            Haile Gerima\n",
      "...                        ...\n",
      "8785 0  Director not specified\n",
      "8786 0  Director not specified\n",
      "8787 0  Director not specified\n",
      "8788 0  Director not specified\n",
      "8789 0  Director not specified\n",
      "\n",
      "[9610 rows x 1 columns]\n"
     ]
    }
   ],
   "source": [
    "directors_list.columns=['Director']\n",
    "print(directors_list)"
   ]
  },
  {
   "cell_type": "code",
   "execution_count": null,
   "metadata": {},
   "outputs": [
    {
     "name": "stdout",
     "output_type": "stream",
     "text": [
      "                       Director  Total Count\n",
      "0                Aaron Moorhead            2\n",
      "1                   Aaron Woolf            1\n",
      "2      Abbas Alibhai Burmawalla            1\n",
      "3              Abdullah Al Noor            1\n",
      "4           Abhinav Shiv Tiwari            1\n",
      "...                         ...          ...\n",
      "5115                Çagan Irmak            1\n",
      "5116           Ísold Uggadóttir            1\n",
      "5117        Óskar Thór Axelsson            1\n",
      "5118           Ömer Faruk Sorak            2\n",
      "5119               Şenol Sönmez            2\n",
      "\n",
      "[5120 rows x 2 columns]\n"
     ]
    }
   ],
   "source": [
    "directors=directors_list.groupby(['Director']).size().reset_index(name='Total Count')\n",
    "print(directors)"
   ]
  },
  {
   "cell_type": "code",
   "execution_count": null,
   "metadata": {},
   "outputs": [
    {
     "name": "stdout",
     "output_type": "stream",
     "text": [
      "                       Director  Total Count\n",
      "0                Aaron Moorhead            2\n",
      "1                   Aaron Woolf            1\n",
      "2      Abbas Alibhai Burmawalla            1\n",
      "3              Abdullah Al Noor            1\n",
      "4           Abhinav Shiv Tiwari            1\n",
      "...                         ...          ...\n",
      "5115                Çagan Irmak            1\n",
      "5116           Ísold Uggadóttir            1\n",
      "5117        Óskar Thór Axelsson            1\n",
      "5118           Ömer Faruk Sorak            2\n",
      "5119               Şenol Sönmez            2\n",
      "\n",
      "[5119 rows x 2 columns]\n"
     ]
    }
   ],
   "source": [
    "directors=directors[directors.Director !='Director not specified']\n",
    "print(directors)"
   ]
  },
  {
   "cell_type": "code",
   "execution_count": null,
   "metadata": {},
   "outputs": [
    {
     "name": "stdout",
     "output_type": "stream",
     "text": [
      "                 Director  Total Count\n",
      "4020        Rajiv Chilaka           23\n",
      "841   Alastair Fothergill           19\n",
      "4067          Raúl Campos           18\n",
      "261             Jan Suter           18\n",
      "4651          Suhas Kadav           16\n",
      "...                   ...          ...\n",
      "5115          Çagan Irmak            1\n",
      "5116     Ísold Uggadóttir            1\n",
      "5117  Óskar Thór Axelsson            1\n",
      "596           Seung-uk Jo            1\n",
      "12               Adam Nee            1\n",
      "\n",
      "[5119 rows x 2 columns]\n"
     ]
    }
   ],
   "source": [
    "directors=directors.sort_values(by=['Total Count'],ascending=False)\n",
    "print(directors)"
   ]
  },
  {
   "cell_type": "code",
   "execution_count": null,
   "metadata": {},
   "outputs": [
    {
     "name": "stdout",
     "output_type": "stream",
     "text": [
      "                 Director  Total Count\n",
      "4020        Rajiv Chilaka           23\n",
      "841   Alastair Fothergill           19\n",
      "4067          Raúl Campos           18\n",
      "261             Jan Suter           18\n",
      "4651          Suhas Kadav           16\n"
     ]
    }
   ],
   "source": [
    "top5directors=directors.head()\n",
    "print(top5directors)"
   ]
  },
  {
   "cell_type": "code",
   "execution_count": null,
   "metadata": {},
   "outputs": [
    {
     "data": {
      "application/vnd.plotly.v1+json": {
       "config": {
        "plotlyServerURL": "https://plot.ly"
       },
       "data": [
        {
         "hovertemplate": "Total Count=%{x}<br>Director=%{y}<extra></extra>",
         "legendgroup": "",
         "marker": {
          "color": "#636efa",
          "pattern": {
           "shape": ""
          }
         },
         "name": "",
         "orientation": "h",
         "showlegend": false,
         "textposition": "auto",
         "type": "bar",
         "x": {
          "bdata": "FxMSEhA=",
          "dtype": "i1"
         },
         "xaxis": "x",
         "y": [
          "Rajiv Chilaka",
          "Alastair Fothergill",
          "Raúl Campos",
          " Jan Suter",
          "Suhas Kadav"
         ],
         "yaxis": "y"
        }
       ],
       "layout": {
        "barmode": "relative",
        "legend": {
         "tracegroupgap": 0
        },
        "template": {
         "data": {
          "bar": [
           {
            "error_x": {
             "color": "#2a3f5f"
            },
            "error_y": {
             "color": "#2a3f5f"
            },
            "marker": {
             "line": {
              "color": "#E5ECF6",
              "width": 0.5
             },
             "pattern": {
              "fillmode": "overlay",
              "size": 10,
              "solidity": 0.2
             }
            },
            "type": "bar"
           }
          ],
          "barpolar": [
           {
            "marker": {
             "line": {
              "color": "#E5ECF6",
              "width": 0.5
             },
             "pattern": {
              "fillmode": "overlay",
              "size": 10,
              "solidity": 0.2
             }
            },
            "type": "barpolar"
           }
          ],
          "carpet": [
           {
            "aaxis": {
             "endlinecolor": "#2a3f5f",
             "gridcolor": "white",
             "linecolor": "white",
             "minorgridcolor": "white",
             "startlinecolor": "#2a3f5f"
            },
            "baxis": {
             "endlinecolor": "#2a3f5f",
             "gridcolor": "white",
             "linecolor": "white",
             "minorgridcolor": "white",
             "startlinecolor": "#2a3f5f"
            },
            "type": "carpet"
           }
          ],
          "choropleth": [
           {
            "colorbar": {
             "outlinewidth": 0,
             "ticks": ""
            },
            "type": "choropleth"
           }
          ],
          "contour": [
           {
            "colorbar": {
             "outlinewidth": 0,
             "ticks": ""
            },
            "colorscale": [
             [
              0,
              "#0d0887"
             ],
             [
              0.1111111111111111,
              "#46039f"
             ],
             [
              0.2222222222222222,
              "#7201a8"
             ],
             [
              0.3333333333333333,
              "#9c179e"
             ],
             [
              0.4444444444444444,
              "#bd3786"
             ],
             [
              0.5555555555555556,
              "#d8576b"
             ],
             [
              0.6666666666666666,
              "#ed7953"
             ],
             [
              0.7777777777777778,
              "#fb9f3a"
             ],
             [
              0.8888888888888888,
              "#fdca26"
             ],
             [
              1,
              "#f0f921"
             ]
            ],
            "type": "contour"
           }
          ],
          "contourcarpet": [
           {
            "colorbar": {
             "outlinewidth": 0,
             "ticks": ""
            },
            "type": "contourcarpet"
           }
          ],
          "heatmap": [
           {
            "colorbar": {
             "outlinewidth": 0,
             "ticks": ""
            },
            "colorscale": [
             [
              0,
              "#0d0887"
             ],
             [
              0.1111111111111111,
              "#46039f"
             ],
             [
              0.2222222222222222,
              "#7201a8"
             ],
             [
              0.3333333333333333,
              "#9c179e"
             ],
             [
              0.4444444444444444,
              "#bd3786"
             ],
             [
              0.5555555555555556,
              "#d8576b"
             ],
             [
              0.6666666666666666,
              "#ed7953"
             ],
             [
              0.7777777777777778,
              "#fb9f3a"
             ],
             [
              0.8888888888888888,
              "#fdca26"
             ],
             [
              1,
              "#f0f921"
             ]
            ],
            "type": "heatmap"
           }
          ],
          "histogram": [
           {
            "marker": {
             "pattern": {
              "fillmode": "overlay",
              "size": 10,
              "solidity": 0.2
             }
            },
            "type": "histogram"
           }
          ],
          "histogram2d": [
           {
            "colorbar": {
             "outlinewidth": 0,
             "ticks": ""
            },
            "colorscale": [
             [
              0,
              "#0d0887"
             ],
             [
              0.1111111111111111,
              "#46039f"
             ],
             [
              0.2222222222222222,
              "#7201a8"
             ],
             [
              0.3333333333333333,
              "#9c179e"
             ],
             [
              0.4444444444444444,
              "#bd3786"
             ],
             [
              0.5555555555555556,
              "#d8576b"
             ],
             [
              0.6666666666666666,
              "#ed7953"
             ],
             [
              0.7777777777777778,
              "#fb9f3a"
             ],
             [
              0.8888888888888888,
              "#fdca26"
             ],
             [
              1,
              "#f0f921"
             ]
            ],
            "type": "histogram2d"
           }
          ],
          "histogram2dcontour": [
           {
            "colorbar": {
             "outlinewidth": 0,
             "ticks": ""
            },
            "colorscale": [
             [
              0,
              "#0d0887"
             ],
             [
              0.1111111111111111,
              "#46039f"
             ],
             [
              0.2222222222222222,
              "#7201a8"
             ],
             [
              0.3333333333333333,
              "#9c179e"
             ],
             [
              0.4444444444444444,
              "#bd3786"
             ],
             [
              0.5555555555555556,
              "#d8576b"
             ],
             [
              0.6666666666666666,
              "#ed7953"
             ],
             [
              0.7777777777777778,
              "#fb9f3a"
             ],
             [
              0.8888888888888888,
              "#fdca26"
             ],
             [
              1,
              "#f0f921"
             ]
            ],
            "type": "histogram2dcontour"
           }
          ],
          "mesh3d": [
           {
            "colorbar": {
             "outlinewidth": 0,
             "ticks": ""
            },
            "type": "mesh3d"
           }
          ],
          "parcoords": [
           {
            "line": {
             "colorbar": {
              "outlinewidth": 0,
              "ticks": ""
             }
            },
            "type": "parcoords"
           }
          ],
          "pie": [
           {
            "automargin": true,
            "type": "pie"
           }
          ],
          "scatter": [
           {
            "fillpattern": {
             "fillmode": "overlay",
             "size": 10,
             "solidity": 0.2
            },
            "type": "scatter"
           }
          ],
          "scatter3d": [
           {
            "line": {
             "colorbar": {
              "outlinewidth": 0,
              "ticks": ""
             }
            },
            "marker": {
             "colorbar": {
              "outlinewidth": 0,
              "ticks": ""
             }
            },
            "type": "scatter3d"
           }
          ],
          "scattercarpet": [
           {
            "marker": {
             "colorbar": {
              "outlinewidth": 0,
              "ticks": ""
             }
            },
            "type": "scattercarpet"
           }
          ],
          "scattergeo": [
           {
            "marker": {
             "colorbar": {
              "outlinewidth": 0,
              "ticks": ""
             }
            },
            "type": "scattergeo"
           }
          ],
          "scattergl": [
           {
            "marker": {
             "colorbar": {
              "outlinewidth": 0,
              "ticks": ""
             }
            },
            "type": "scattergl"
           }
          ],
          "scattermap": [
           {
            "marker": {
             "colorbar": {
              "outlinewidth": 0,
              "ticks": ""
             }
            },
            "type": "scattermap"
           }
          ],
          "scattermapbox": [
           {
            "marker": {
             "colorbar": {
              "outlinewidth": 0,
              "ticks": ""
             }
            },
            "type": "scattermapbox"
           }
          ],
          "scatterpolar": [
           {
            "marker": {
             "colorbar": {
              "outlinewidth": 0,
              "ticks": ""
             }
            },
            "type": "scatterpolar"
           }
          ],
          "scatterpolargl": [
           {
            "marker": {
             "colorbar": {
              "outlinewidth": 0,
              "ticks": ""
             }
            },
            "type": "scatterpolargl"
           }
          ],
          "scatterternary": [
           {
            "marker": {
             "colorbar": {
              "outlinewidth": 0,
              "ticks": ""
             }
            },
            "type": "scatterternary"
           }
          ],
          "surface": [
           {
            "colorbar": {
             "outlinewidth": 0,
             "ticks": ""
            },
            "colorscale": [
             [
              0,
              "#0d0887"
             ],
             [
              0.1111111111111111,
              "#46039f"
             ],
             [
              0.2222222222222222,
              "#7201a8"
             ],
             [
              0.3333333333333333,
              "#9c179e"
             ],
             [
              0.4444444444444444,
              "#bd3786"
             ],
             [
              0.5555555555555556,
              "#d8576b"
             ],
             [
              0.6666666666666666,
              "#ed7953"
             ],
             [
              0.7777777777777778,
              "#fb9f3a"
             ],
             [
              0.8888888888888888,
              "#fdca26"
             ],
             [
              1,
              "#f0f921"
             ]
            ],
            "type": "surface"
           }
          ],
          "table": [
           {
            "cells": {
             "fill": {
              "color": "#EBF0F8"
             },
             "line": {
              "color": "white"
             }
            },
            "header": {
             "fill": {
              "color": "#C8D4E3"
             },
             "line": {
              "color": "white"
             }
            },
            "type": "table"
           }
          ]
         },
         "layout": {
          "annotationdefaults": {
           "arrowcolor": "#2a3f5f",
           "arrowhead": 0,
           "arrowwidth": 1
          },
          "autotypenumbers": "strict",
          "coloraxis": {
           "colorbar": {
            "outlinewidth": 0,
            "ticks": ""
           }
          },
          "colorscale": {
           "diverging": [
            [
             0,
             "#8e0152"
            ],
            [
             0.1,
             "#c51b7d"
            ],
            [
             0.2,
             "#de77ae"
            ],
            [
             0.3,
             "#f1b6da"
            ],
            [
             0.4,
             "#fde0ef"
            ],
            [
             0.5,
             "#f7f7f7"
            ],
            [
             0.6,
             "#e6f5d0"
            ],
            [
             0.7,
             "#b8e186"
            ],
            [
             0.8,
             "#7fbc41"
            ],
            [
             0.9,
             "#4d9221"
            ],
            [
             1,
             "#276419"
            ]
           ],
           "sequential": [
            [
             0,
             "#0d0887"
            ],
            [
             0.1111111111111111,
             "#46039f"
            ],
            [
             0.2222222222222222,
             "#7201a8"
            ],
            [
             0.3333333333333333,
             "#9c179e"
            ],
            [
             0.4444444444444444,
             "#bd3786"
            ],
            [
             0.5555555555555556,
             "#d8576b"
            ],
            [
             0.6666666666666666,
             "#ed7953"
            ],
            [
             0.7777777777777778,
             "#fb9f3a"
            ],
            [
             0.8888888888888888,
             "#fdca26"
            ],
            [
             1,
             "#f0f921"
            ]
           ],
           "sequentialminus": [
            [
             0,
             "#0d0887"
            ],
            [
             0.1111111111111111,
             "#46039f"
            ],
            [
             0.2222222222222222,
             "#7201a8"
            ],
            [
             0.3333333333333333,
             "#9c179e"
            ],
            [
             0.4444444444444444,
             "#bd3786"
            ],
            [
             0.5555555555555556,
             "#d8576b"
            ],
            [
             0.6666666666666666,
             "#ed7953"
            ],
            [
             0.7777777777777778,
             "#fb9f3a"
            ],
            [
             0.8888888888888888,
             "#fdca26"
            ],
            [
             1,
             "#f0f921"
            ]
           ]
          },
          "colorway": [
           "#636efa",
           "#EF553B",
           "#00cc96",
           "#ab63fa",
           "#FFA15A",
           "#19d3f3",
           "#FF6692",
           "#B6E880",
           "#FF97FF",
           "#FECB52"
          ],
          "font": {
           "color": "#2a3f5f"
          },
          "geo": {
           "bgcolor": "white",
           "lakecolor": "white",
           "landcolor": "#E5ECF6",
           "showlakes": true,
           "showland": true,
           "subunitcolor": "white"
          },
          "hoverlabel": {
           "align": "left"
          },
          "hovermode": "closest",
          "mapbox": {
           "style": "light"
          },
          "paper_bgcolor": "white",
          "plot_bgcolor": "#E5ECF6",
          "polar": {
           "angularaxis": {
            "gridcolor": "white",
            "linecolor": "white",
            "ticks": ""
           },
           "bgcolor": "#E5ECF6",
           "radialaxis": {
            "gridcolor": "white",
            "linecolor": "white",
            "ticks": ""
           }
          },
          "scene": {
           "xaxis": {
            "backgroundcolor": "#E5ECF6",
            "gridcolor": "white",
            "gridwidth": 2,
            "linecolor": "white",
            "showbackground": true,
            "ticks": "",
            "zerolinecolor": "white"
           },
           "yaxis": {
            "backgroundcolor": "#E5ECF6",
            "gridcolor": "white",
            "gridwidth": 2,
            "linecolor": "white",
            "showbackground": true,
            "ticks": "",
            "zerolinecolor": "white"
           },
           "zaxis": {
            "backgroundcolor": "#E5ECF6",
            "gridcolor": "white",
            "gridwidth": 2,
            "linecolor": "white",
            "showbackground": true,
            "ticks": "",
            "zerolinecolor": "white"
           }
          },
          "shapedefaults": {
           "line": {
            "color": "#2a3f5f"
           }
          },
          "ternary": {
           "aaxis": {
            "gridcolor": "white",
            "linecolor": "white",
            "ticks": ""
           },
           "baxis": {
            "gridcolor": "white",
            "linecolor": "white",
            "ticks": ""
           },
           "bgcolor": "#E5ECF6",
           "caxis": {
            "gridcolor": "white",
            "linecolor": "white",
            "ticks": ""
           }
          },
          "title": {
           "x": 0.05
          },
          "xaxis": {
           "automargin": true,
           "gridcolor": "white",
           "linecolor": "white",
           "ticks": "",
           "title": {
            "standoff": 15
           },
           "zerolinecolor": "white",
           "zerolinewidth": 2
          },
          "yaxis": {
           "automargin": true,
           "gridcolor": "white",
           "linecolor": "white",
           "ticks": "",
           "title": {
            "standoff": 15
           },
           "zerolinecolor": "white",
           "zerolinewidth": 2
          }
         }
        },
        "title": {
         "text": "Top 5 Directors of Netflix"
        },
        "xaxis": {
         "anchor": "y",
         "domain": [
          0,
          1
         ],
         "title": {
          "text": "Total Count"
         }
        },
        "yaxis": {
         "anchor": "x",
         "domain": [
          0,
          1
         ],
         "title": {
          "text": "Director"
         }
        }
       }
      }
     },
     "metadata": {},
     "output_type": "display_data"
    }
   ],
   "source": [
    "barChart=px.bar(top5directors,x='Total Count', y='Director',title='Top 5 Directors of Netflix')\n",
    "barChart.show()"
   ]
  },
  {
   "cell_type": "markdown",
   "metadata": {},
   "source": [
    "Anaslyzing the content produced on Netflix based on years"
   ]
  },
  {
   "cell_type": "code",
   "execution_count": null,
   "metadata": {},
   "outputs": [],
   "source": [
    "df1=df[['type','release_year']]\n",
    "df1=df.rename(columns={\"release_year\": \"Release Year\",\"type\":\"Type\"})\n",
    "df2=df1.groupby(['Release Year','Type']).size().reset_index(name='Total Count')"
   ]
  },
  {
   "cell_type": "code",
   "execution_count": null,
   "metadata": {},
   "outputs": [
    {
     "name": "stdout",
     "output_type": "stream",
     "text": [
      "     Release Year     Type  Total Count\n",
      "0            1925  TV Show            1\n",
      "1            1942    Movie            2\n",
      "2            1943    Movie            3\n",
      "3            1944    Movie            3\n",
      "4            1945    Movie            3\n",
      "..            ...      ...          ...\n",
      "114          2019  TV Show          397\n",
      "115          2020    Movie          517\n",
      "116          2020  TV Show          436\n",
      "117          2021    Movie          277\n",
      "118          2021  TV Show          315\n",
      "\n",
      "[119 rows x 3 columns]\n"
     ]
    }
   ],
   "source": [
    "print(df2)"
   ]
  },
  {
   "cell_type": "code",
   "execution_count": null,
   "metadata": {},
   "outputs": [
    {
     "data": {
      "application/vnd.plotly.v1+json": {
       "config": {
        "plotlyServerURL": "https://plot.ly"
       },
       "data": [
        {
         "hovertemplate": "Type=Movie<br>Release Year=%{x}<br>Total Count=%{y}<extra></extra>",
         "legendgroup": "Movie",
         "line": {
          "color": "#636efa",
          "dash": "solid"
         },
         "marker": {
          "symbol": "circle"
         },
         "mode": "lines",
         "name": "Movie",
         "orientation": "v",
         "showlegend": true,
         "type": "scatter",
         "x": {
          "bdata": "0AfRB9IH0wfUB9UH1gfXB9gH2QfaB9sH3AfdB94H3wfgB+EH4gfjB+QH5Qc=",
          "dtype": "i2"
         },
         "xaxis": "x",
         "y": {
          "bdata": "IQAoACwAMwA3AEMAUgBKAHEAdgCZAJEArQDhAAgBjAGSAv0C/wJ5AgUCFQE=",
          "dtype": "i2"
         },
         "yaxis": "y"
        },
        {
         "hovertemplate": "Type=TV Show<br>Release Year=%{x}<br>Total Count=%{y}<extra></extra>",
         "legendgroup": "TV Show",
         "line": {
          "color": "#EF553B",
          "dash": "solid"
         },
         "marker": {
          "symbol": "circle"
         },
         "mode": "lines",
         "name": "TV Show",
         "orientation": "v",
         "showlegend": true,
         "type": "scatter",
         "x": {
          "bdata": "0AfRB9IH0wfUB9UH1gfXB9gH2QfaB9sH3AfdB94H3wfgB+EH4gfjB+QH5Qc=",
          "dtype": "i2"
         },
         "xaxis": "x",
         "y": {
          "bdata": "BAAFAAcACAAJAA0ADgAOABYAIgAnACgAPwA9AFgAnwDzAAkBewGNAbQBOwE=",
          "dtype": "i2"
         },
         "yaxis": "y"
        }
       ],
       "layout": {
        "legend": {
         "title": {
          "text": "Type"
         },
         "tracegroupgap": 0
        },
        "template": {
         "data": {
          "bar": [
           {
            "error_x": {
             "color": "#2a3f5f"
            },
            "error_y": {
             "color": "#2a3f5f"
            },
            "marker": {
             "line": {
              "color": "#E5ECF6",
              "width": 0.5
             },
             "pattern": {
              "fillmode": "overlay",
              "size": 10,
              "solidity": 0.2
             }
            },
            "type": "bar"
           }
          ],
          "barpolar": [
           {
            "marker": {
             "line": {
              "color": "#E5ECF6",
              "width": 0.5
             },
             "pattern": {
              "fillmode": "overlay",
              "size": 10,
              "solidity": 0.2
             }
            },
            "type": "barpolar"
           }
          ],
          "carpet": [
           {
            "aaxis": {
             "endlinecolor": "#2a3f5f",
             "gridcolor": "white",
             "linecolor": "white",
             "minorgridcolor": "white",
             "startlinecolor": "#2a3f5f"
            },
            "baxis": {
             "endlinecolor": "#2a3f5f",
             "gridcolor": "white",
             "linecolor": "white",
             "minorgridcolor": "white",
             "startlinecolor": "#2a3f5f"
            },
            "type": "carpet"
           }
          ],
          "choropleth": [
           {
            "colorbar": {
             "outlinewidth": 0,
             "ticks": ""
            },
            "type": "choropleth"
           }
          ],
          "contour": [
           {
            "colorbar": {
             "outlinewidth": 0,
             "ticks": ""
            },
            "colorscale": [
             [
              0,
              "#0d0887"
             ],
             [
              0.1111111111111111,
              "#46039f"
             ],
             [
              0.2222222222222222,
              "#7201a8"
             ],
             [
              0.3333333333333333,
              "#9c179e"
             ],
             [
              0.4444444444444444,
              "#bd3786"
             ],
             [
              0.5555555555555556,
              "#d8576b"
             ],
             [
              0.6666666666666666,
              "#ed7953"
             ],
             [
              0.7777777777777778,
              "#fb9f3a"
             ],
             [
              0.8888888888888888,
              "#fdca26"
             ],
             [
              1,
              "#f0f921"
             ]
            ],
            "type": "contour"
           }
          ],
          "contourcarpet": [
           {
            "colorbar": {
             "outlinewidth": 0,
             "ticks": ""
            },
            "type": "contourcarpet"
           }
          ],
          "heatmap": [
           {
            "colorbar": {
             "outlinewidth": 0,
             "ticks": ""
            },
            "colorscale": [
             [
              0,
              "#0d0887"
             ],
             [
              0.1111111111111111,
              "#46039f"
             ],
             [
              0.2222222222222222,
              "#7201a8"
             ],
             [
              0.3333333333333333,
              "#9c179e"
             ],
             [
              0.4444444444444444,
              "#bd3786"
             ],
             [
              0.5555555555555556,
              "#d8576b"
             ],
             [
              0.6666666666666666,
              "#ed7953"
             ],
             [
              0.7777777777777778,
              "#fb9f3a"
             ],
             [
              0.8888888888888888,
              "#fdca26"
             ],
             [
              1,
              "#f0f921"
             ]
            ],
            "type": "heatmap"
           }
          ],
          "histogram": [
           {
            "marker": {
             "pattern": {
              "fillmode": "overlay",
              "size": 10,
              "solidity": 0.2
             }
            },
            "type": "histogram"
           }
          ],
          "histogram2d": [
           {
            "colorbar": {
             "outlinewidth": 0,
             "ticks": ""
            },
            "colorscale": [
             [
              0,
              "#0d0887"
             ],
             [
              0.1111111111111111,
              "#46039f"
             ],
             [
              0.2222222222222222,
              "#7201a8"
             ],
             [
              0.3333333333333333,
              "#9c179e"
             ],
             [
              0.4444444444444444,
              "#bd3786"
             ],
             [
              0.5555555555555556,
              "#d8576b"
             ],
             [
              0.6666666666666666,
              "#ed7953"
             ],
             [
              0.7777777777777778,
              "#fb9f3a"
             ],
             [
              0.8888888888888888,
              "#fdca26"
             ],
             [
              1,
              "#f0f921"
             ]
            ],
            "type": "histogram2d"
           }
          ],
          "histogram2dcontour": [
           {
            "colorbar": {
             "outlinewidth": 0,
             "ticks": ""
            },
            "colorscale": [
             [
              0,
              "#0d0887"
             ],
             [
              0.1111111111111111,
              "#46039f"
             ],
             [
              0.2222222222222222,
              "#7201a8"
             ],
             [
              0.3333333333333333,
              "#9c179e"
             ],
             [
              0.4444444444444444,
              "#bd3786"
             ],
             [
              0.5555555555555556,
              "#d8576b"
             ],
             [
              0.6666666666666666,
              "#ed7953"
             ],
             [
              0.7777777777777778,
              "#fb9f3a"
             ],
             [
              0.8888888888888888,
              "#fdca26"
             ],
             [
              1,
              "#f0f921"
             ]
            ],
            "type": "histogram2dcontour"
           }
          ],
          "mesh3d": [
           {
            "colorbar": {
             "outlinewidth": 0,
             "ticks": ""
            },
            "type": "mesh3d"
           }
          ],
          "parcoords": [
           {
            "line": {
             "colorbar": {
              "outlinewidth": 0,
              "ticks": ""
             }
            },
            "type": "parcoords"
           }
          ],
          "pie": [
           {
            "automargin": true,
            "type": "pie"
           }
          ],
          "scatter": [
           {
            "fillpattern": {
             "fillmode": "overlay",
             "size": 10,
             "solidity": 0.2
            },
            "type": "scatter"
           }
          ],
          "scatter3d": [
           {
            "line": {
             "colorbar": {
              "outlinewidth": 0,
              "ticks": ""
             }
            },
            "marker": {
             "colorbar": {
              "outlinewidth": 0,
              "ticks": ""
             }
            },
            "type": "scatter3d"
           }
          ],
          "scattercarpet": [
           {
            "marker": {
             "colorbar": {
              "outlinewidth": 0,
              "ticks": ""
             }
            },
            "type": "scattercarpet"
           }
          ],
          "scattergeo": [
           {
            "marker": {
             "colorbar": {
              "outlinewidth": 0,
              "ticks": ""
             }
            },
            "type": "scattergeo"
           }
          ],
          "scattergl": [
           {
            "marker": {
             "colorbar": {
              "outlinewidth": 0,
              "ticks": ""
             }
            },
            "type": "scattergl"
           }
          ],
          "scattermap": [
           {
            "marker": {
             "colorbar": {
              "outlinewidth": 0,
              "ticks": ""
             }
            },
            "type": "scattermap"
           }
          ],
          "scattermapbox": [
           {
            "marker": {
             "colorbar": {
              "outlinewidth": 0,
              "ticks": ""
             }
            },
            "type": "scattermapbox"
           }
          ],
          "scatterpolar": [
           {
            "marker": {
             "colorbar": {
              "outlinewidth": 0,
              "ticks": ""
             }
            },
            "type": "scatterpolar"
           }
          ],
          "scatterpolargl": [
           {
            "marker": {
             "colorbar": {
              "outlinewidth": 0,
              "ticks": ""
             }
            },
            "type": "scatterpolargl"
           }
          ],
          "scatterternary": [
           {
            "marker": {
             "colorbar": {
              "outlinewidth": 0,
              "ticks": ""
             }
            },
            "type": "scatterternary"
           }
          ],
          "surface": [
           {
            "colorbar": {
             "outlinewidth": 0,
             "ticks": ""
            },
            "colorscale": [
             [
              0,
              "#0d0887"
             ],
             [
              0.1111111111111111,
              "#46039f"
             ],
             [
              0.2222222222222222,
              "#7201a8"
             ],
             [
              0.3333333333333333,
              "#9c179e"
             ],
             [
              0.4444444444444444,
              "#bd3786"
             ],
             [
              0.5555555555555556,
              "#d8576b"
             ],
             [
              0.6666666666666666,
              "#ed7953"
             ],
             [
              0.7777777777777778,
              "#fb9f3a"
             ],
             [
              0.8888888888888888,
              "#fdca26"
             ],
             [
              1,
              "#f0f921"
             ]
            ],
            "type": "surface"
           }
          ],
          "table": [
           {
            "cells": {
             "fill": {
              "color": "#EBF0F8"
             },
             "line": {
              "color": "white"
             }
            },
            "header": {
             "fill": {
              "color": "#C8D4E3"
             },
             "line": {
              "color": "white"
             }
            },
            "type": "table"
           }
          ]
         },
         "layout": {
          "annotationdefaults": {
           "arrowcolor": "#2a3f5f",
           "arrowhead": 0,
           "arrowwidth": 1
          },
          "autotypenumbers": "strict",
          "coloraxis": {
           "colorbar": {
            "outlinewidth": 0,
            "ticks": ""
           }
          },
          "colorscale": {
           "diverging": [
            [
             0,
             "#8e0152"
            ],
            [
             0.1,
             "#c51b7d"
            ],
            [
             0.2,
             "#de77ae"
            ],
            [
             0.3,
             "#f1b6da"
            ],
            [
             0.4,
             "#fde0ef"
            ],
            [
             0.5,
             "#f7f7f7"
            ],
            [
             0.6,
             "#e6f5d0"
            ],
            [
             0.7,
             "#b8e186"
            ],
            [
             0.8,
             "#7fbc41"
            ],
            [
             0.9,
             "#4d9221"
            ],
            [
             1,
             "#276419"
            ]
           ],
           "sequential": [
            [
             0,
             "#0d0887"
            ],
            [
             0.1111111111111111,
             "#46039f"
            ],
            [
             0.2222222222222222,
             "#7201a8"
            ],
            [
             0.3333333333333333,
             "#9c179e"
            ],
            [
             0.4444444444444444,
             "#bd3786"
            ],
            [
             0.5555555555555556,
             "#d8576b"
            ],
            [
             0.6666666666666666,
             "#ed7953"
            ],
            [
             0.7777777777777778,
             "#fb9f3a"
            ],
            [
             0.8888888888888888,
             "#fdca26"
            ],
            [
             1,
             "#f0f921"
            ]
           ],
           "sequentialminus": [
            [
             0,
             "#0d0887"
            ],
            [
             0.1111111111111111,
             "#46039f"
            ],
            [
             0.2222222222222222,
             "#7201a8"
            ],
            [
             0.3333333333333333,
             "#9c179e"
            ],
            [
             0.4444444444444444,
             "#bd3786"
            ],
            [
             0.5555555555555556,
             "#d8576b"
            ],
            [
             0.6666666666666666,
             "#ed7953"
            ],
            [
             0.7777777777777778,
             "#fb9f3a"
            ],
            [
             0.8888888888888888,
             "#fdca26"
            ],
            [
             1,
             "#f0f921"
            ]
           ]
          },
          "colorway": [
           "#636efa",
           "#EF553B",
           "#00cc96",
           "#ab63fa",
           "#FFA15A",
           "#19d3f3",
           "#FF6692",
           "#B6E880",
           "#FF97FF",
           "#FECB52"
          ],
          "font": {
           "color": "#2a3f5f"
          },
          "geo": {
           "bgcolor": "white",
           "lakecolor": "white",
           "landcolor": "#E5ECF6",
           "showlakes": true,
           "showland": true,
           "subunitcolor": "white"
          },
          "hoverlabel": {
           "align": "left"
          },
          "hovermode": "closest",
          "mapbox": {
           "style": "light"
          },
          "paper_bgcolor": "white",
          "plot_bgcolor": "#E5ECF6",
          "polar": {
           "angularaxis": {
            "gridcolor": "white",
            "linecolor": "white",
            "ticks": ""
           },
           "bgcolor": "#E5ECF6",
           "radialaxis": {
            "gridcolor": "white",
            "linecolor": "white",
            "ticks": ""
           }
          },
          "scene": {
           "xaxis": {
            "backgroundcolor": "#E5ECF6",
            "gridcolor": "white",
            "gridwidth": 2,
            "linecolor": "white",
            "showbackground": true,
            "ticks": "",
            "zerolinecolor": "white"
           },
           "yaxis": {
            "backgroundcolor": "#E5ECF6",
            "gridcolor": "white",
            "gridwidth": 2,
            "linecolor": "white",
            "showbackground": true,
            "ticks": "",
            "zerolinecolor": "white"
           },
           "zaxis": {
            "backgroundcolor": "#E5ECF6",
            "gridcolor": "white",
            "gridwidth": 2,
            "linecolor": "white",
            "showbackground": true,
            "ticks": "",
            "zerolinecolor": "white"
           }
          },
          "shapedefaults": {
           "line": {
            "color": "#2a3f5f"
           }
          },
          "ternary": {
           "aaxis": {
            "gridcolor": "white",
            "linecolor": "white",
            "ticks": ""
           },
           "baxis": {
            "gridcolor": "white",
            "linecolor": "white",
            "ticks": ""
           },
           "bgcolor": "#E5ECF6",
           "caxis": {
            "gridcolor": "white",
            "linecolor": "white",
            "ticks": ""
           }
          },
          "title": {
           "x": 0.05
          },
          "xaxis": {
           "automargin": true,
           "gridcolor": "white",
           "linecolor": "white",
           "ticks": "",
           "title": {
            "standoff": 15
           },
           "zerolinecolor": "white",
           "zerolinewidth": 2
          },
          "yaxis": {
           "automargin": true,
           "gridcolor": "white",
           "linecolor": "white",
           "ticks": "",
           "title": {
            "standoff": 15
           },
           "zerolinecolor": "white",
           "zerolinewidth": 2
          }
         }
        },
        "title": {
         "text": "Trend of Content Produced on Netflix Every Year"
        },
        "xaxis": {
         "anchor": "y",
         "domain": [
          0,
          1
         ],
         "title": {
          "text": "Release Year"
         }
        },
        "yaxis": {
         "anchor": "x",
         "domain": [
          0,
          1
         ],
         "title": {
          "text": "Total Count"
         }
        }
       }
      }
     },
     "metadata": {},
     "output_type": "display_data"
    }
   ],
   "source": [
    "df2=df2[df2['Release Year']>=2000]\n",
    "graph=px.line(df2,x= \"Release Year\", y=\"Total Count\", color=\"Type\", title= \"Trend of Content Produced on Netflix Every Year\")\n",
    "graph.show()"
   ]
  },
  {
   "cell_type": "markdown",
   "metadata": {},
   "source": [
    "Analyzing Top 10 Countries that produced number of Movies/Tv shows on Netfllix"
   ]
  },
  {
   "cell_type": "code",
   "execution_count": null,
   "metadata": {},
   "outputs": [
    {
     "data": {
      "application/vnd.plotly.v1+json": {
       "config": {
        "plotlyServerURL": "https://plot.ly"
       },
       "data": [
        {
         "hovertemplate": "Country=%{x}<br>Number of Movies/TV Shows=%{y}<br>color=%{marker.color}<extra></extra>",
         "legendgroup": "",
         "marker": {
          "color": {
           "bdata": "qAwhBH4CpQEfAQ8BAwHWANUAtgA=",
           "dtype": "i2"
          },
          "coloraxis": "coloraxis",
          "pattern": {
           "shape": ""
          }
         },
         "name": "",
         "orientation": "v",
         "showlegend": false,
         "textposition": "auto",
         "type": "bar",
         "x": [
          "United States",
          "India",
          "United Kingdom",
          "Pakistan",
          "Director not specified",
          "Canada",
          "Japan",
          "South Korea",
          "France",
          "Spain"
         ],
         "xaxis": "x",
         "y": {
          "bdata": "qAwhBH4CpQEfAQ8BAwHWANUAtgA=",
          "dtype": "i2"
         },
         "yaxis": "y"
        }
       ],
       "layout": {
        "barmode": "relative",
        "coloraxis": {
         "colorbar": {
          "title": {
           "text": "color"
          }
         },
         "colorscale": [
          [
           0,
           "#440154"
          ],
          [
           0.1111111111111111,
           "#482878"
          ],
          [
           0.2222222222222222,
           "#3e4989"
          ],
          [
           0.3333333333333333,
           "#31688e"
          ],
          [
           0.4444444444444444,
           "#26828e"
          ],
          [
           0.5555555555555556,
           "#1f9e89"
          ],
          [
           0.6666666666666666,
           "#35b779"
          ],
          [
           0.7777777777777778,
           "#6ece58"
          ],
          [
           0.8888888888888888,
           "#b5de2b"
          ],
          [
           1,
           "#fde725"
          ]
         ]
        },
        "legend": {
         "tracegroupgap": 0
        },
        "template": {
         "data": {
          "bar": [
           {
            "error_x": {
             "color": "#2a3f5f"
            },
            "error_y": {
             "color": "#2a3f5f"
            },
            "marker": {
             "line": {
              "color": "#E5ECF6",
              "width": 0.5
             },
             "pattern": {
              "fillmode": "overlay",
              "size": 10,
              "solidity": 0.2
             }
            },
            "type": "bar"
           }
          ],
          "barpolar": [
           {
            "marker": {
             "line": {
              "color": "#E5ECF6",
              "width": 0.5
             },
             "pattern": {
              "fillmode": "overlay",
              "size": 10,
              "solidity": 0.2
             }
            },
            "type": "barpolar"
           }
          ],
          "carpet": [
           {
            "aaxis": {
             "endlinecolor": "#2a3f5f",
             "gridcolor": "white",
             "linecolor": "white",
             "minorgridcolor": "white",
             "startlinecolor": "#2a3f5f"
            },
            "baxis": {
             "endlinecolor": "#2a3f5f",
             "gridcolor": "white",
             "linecolor": "white",
             "minorgridcolor": "white",
             "startlinecolor": "#2a3f5f"
            },
            "type": "carpet"
           }
          ],
          "choropleth": [
           {
            "colorbar": {
             "outlinewidth": 0,
             "ticks": ""
            },
            "type": "choropleth"
           }
          ],
          "contour": [
           {
            "colorbar": {
             "outlinewidth": 0,
             "ticks": ""
            },
            "colorscale": [
             [
              0,
              "#0d0887"
             ],
             [
              0.1111111111111111,
              "#46039f"
             ],
             [
              0.2222222222222222,
              "#7201a8"
             ],
             [
              0.3333333333333333,
              "#9c179e"
             ],
             [
              0.4444444444444444,
              "#bd3786"
             ],
             [
              0.5555555555555556,
              "#d8576b"
             ],
             [
              0.6666666666666666,
              "#ed7953"
             ],
             [
              0.7777777777777778,
              "#fb9f3a"
             ],
             [
              0.8888888888888888,
              "#fdca26"
             ],
             [
              1,
              "#f0f921"
             ]
            ],
            "type": "contour"
           }
          ],
          "contourcarpet": [
           {
            "colorbar": {
             "outlinewidth": 0,
             "ticks": ""
            },
            "type": "contourcarpet"
           }
          ],
          "heatmap": [
           {
            "colorbar": {
             "outlinewidth": 0,
             "ticks": ""
            },
            "colorscale": [
             [
              0,
              "#0d0887"
             ],
             [
              0.1111111111111111,
              "#46039f"
             ],
             [
              0.2222222222222222,
              "#7201a8"
             ],
             [
              0.3333333333333333,
              "#9c179e"
             ],
             [
              0.4444444444444444,
              "#bd3786"
             ],
             [
              0.5555555555555556,
              "#d8576b"
             ],
             [
              0.6666666666666666,
              "#ed7953"
             ],
             [
              0.7777777777777778,
              "#fb9f3a"
             ],
             [
              0.8888888888888888,
              "#fdca26"
             ],
             [
              1,
              "#f0f921"
             ]
            ],
            "type": "heatmap"
           }
          ],
          "histogram": [
           {
            "marker": {
             "pattern": {
              "fillmode": "overlay",
              "size": 10,
              "solidity": 0.2
             }
            },
            "type": "histogram"
           }
          ],
          "histogram2d": [
           {
            "colorbar": {
             "outlinewidth": 0,
             "ticks": ""
            },
            "colorscale": [
             [
              0,
              "#0d0887"
             ],
             [
              0.1111111111111111,
              "#46039f"
             ],
             [
              0.2222222222222222,
              "#7201a8"
             ],
             [
              0.3333333333333333,
              "#9c179e"
             ],
             [
              0.4444444444444444,
              "#bd3786"
             ],
             [
              0.5555555555555556,
              "#d8576b"
             ],
             [
              0.6666666666666666,
              "#ed7953"
             ],
             [
              0.7777777777777778,
              "#fb9f3a"
             ],
             [
              0.8888888888888888,
              "#fdca26"
             ],
             [
              1,
              "#f0f921"
             ]
            ],
            "type": "histogram2d"
           }
          ],
          "histogram2dcontour": [
           {
            "colorbar": {
             "outlinewidth": 0,
             "ticks": ""
            },
            "colorscale": [
             [
              0,
              "#0d0887"
             ],
             [
              0.1111111111111111,
              "#46039f"
             ],
             [
              0.2222222222222222,
              "#7201a8"
             ],
             [
              0.3333333333333333,
              "#9c179e"
             ],
             [
              0.4444444444444444,
              "#bd3786"
             ],
             [
              0.5555555555555556,
              "#d8576b"
             ],
             [
              0.6666666666666666,
              "#ed7953"
             ],
             [
              0.7777777777777778,
              "#fb9f3a"
             ],
             [
              0.8888888888888888,
              "#fdca26"
             ],
             [
              1,
              "#f0f921"
             ]
            ],
            "type": "histogram2dcontour"
           }
          ],
          "mesh3d": [
           {
            "colorbar": {
             "outlinewidth": 0,
             "ticks": ""
            },
            "type": "mesh3d"
           }
          ],
          "parcoords": [
           {
            "line": {
             "colorbar": {
              "outlinewidth": 0,
              "ticks": ""
             }
            },
            "type": "parcoords"
           }
          ],
          "pie": [
           {
            "automargin": true,
            "type": "pie"
           }
          ],
          "scatter": [
           {
            "fillpattern": {
             "fillmode": "overlay",
             "size": 10,
             "solidity": 0.2
            },
            "type": "scatter"
           }
          ],
          "scatter3d": [
           {
            "line": {
             "colorbar": {
              "outlinewidth": 0,
              "ticks": ""
             }
            },
            "marker": {
             "colorbar": {
              "outlinewidth": 0,
              "ticks": ""
             }
            },
            "type": "scatter3d"
           }
          ],
          "scattercarpet": [
           {
            "marker": {
             "colorbar": {
              "outlinewidth": 0,
              "ticks": ""
             }
            },
            "type": "scattercarpet"
           }
          ],
          "scattergeo": [
           {
            "marker": {
             "colorbar": {
              "outlinewidth": 0,
              "ticks": ""
             }
            },
            "type": "scattergeo"
           }
          ],
          "scattergl": [
           {
            "marker": {
             "colorbar": {
              "outlinewidth": 0,
              "ticks": ""
             }
            },
            "type": "scattergl"
           }
          ],
          "scattermap": [
           {
            "marker": {
             "colorbar": {
              "outlinewidth": 0,
              "ticks": ""
             }
            },
            "type": "scattermap"
           }
          ],
          "scattermapbox": [
           {
            "marker": {
             "colorbar": {
              "outlinewidth": 0,
              "ticks": ""
             }
            },
            "type": "scattermapbox"
           }
          ],
          "scatterpolar": [
           {
            "marker": {
             "colorbar": {
              "outlinewidth": 0,
              "ticks": ""
             }
            },
            "type": "scatterpolar"
           }
          ],
          "scatterpolargl": [
           {
            "marker": {
             "colorbar": {
              "outlinewidth": 0,
              "ticks": ""
             }
            },
            "type": "scatterpolargl"
           }
          ],
          "scatterternary": [
           {
            "marker": {
             "colorbar": {
              "outlinewidth": 0,
              "ticks": ""
             }
            },
            "type": "scatterternary"
           }
          ],
          "surface": [
           {
            "colorbar": {
             "outlinewidth": 0,
             "ticks": ""
            },
            "colorscale": [
             [
              0,
              "#0d0887"
             ],
             [
              0.1111111111111111,
              "#46039f"
             ],
             [
              0.2222222222222222,
              "#7201a8"
             ],
             [
              0.3333333333333333,
              "#9c179e"
             ],
             [
              0.4444444444444444,
              "#bd3786"
             ],
             [
              0.5555555555555556,
              "#d8576b"
             ],
             [
              0.6666666666666666,
              "#ed7953"
             ],
             [
              0.7777777777777778,
              "#fb9f3a"
             ],
             [
              0.8888888888888888,
              "#fdca26"
             ],
             [
              1,
              "#f0f921"
             ]
            ],
            "type": "surface"
           }
          ],
          "table": [
           {
            "cells": {
             "fill": {
              "color": "#EBF0F8"
             },
             "line": {
              "color": "white"
             }
            },
            "header": {
             "fill": {
              "color": "#C8D4E3"
             },
             "line": {
              "color": "white"
             }
            },
            "type": "table"
           }
          ]
         },
         "layout": {
          "annotationdefaults": {
           "arrowcolor": "#2a3f5f",
           "arrowhead": 0,
           "arrowwidth": 1
          },
          "autotypenumbers": "strict",
          "coloraxis": {
           "colorbar": {
            "outlinewidth": 0,
            "ticks": ""
           }
          },
          "colorscale": {
           "diverging": [
            [
             0,
             "#8e0152"
            ],
            [
             0.1,
             "#c51b7d"
            ],
            [
             0.2,
             "#de77ae"
            ],
            [
             0.3,
             "#f1b6da"
            ],
            [
             0.4,
             "#fde0ef"
            ],
            [
             0.5,
             "#f7f7f7"
            ],
            [
             0.6,
             "#e6f5d0"
            ],
            [
             0.7,
             "#b8e186"
            ],
            [
             0.8,
             "#7fbc41"
            ],
            [
             0.9,
             "#4d9221"
            ],
            [
             1,
             "#276419"
            ]
           ],
           "sequential": [
            [
             0,
             "#0d0887"
            ],
            [
             0.1111111111111111,
             "#46039f"
            ],
            [
             0.2222222222222222,
             "#7201a8"
            ],
            [
             0.3333333333333333,
             "#9c179e"
            ],
            [
             0.4444444444444444,
             "#bd3786"
            ],
            [
             0.5555555555555556,
             "#d8576b"
            ],
            [
             0.6666666666666666,
             "#ed7953"
            ],
            [
             0.7777777777777778,
             "#fb9f3a"
            ],
            [
             0.8888888888888888,
             "#fdca26"
            ],
            [
             1,
             "#f0f921"
            ]
           ],
           "sequentialminus": [
            [
             0,
             "#0d0887"
            ],
            [
             0.1111111111111111,
             "#46039f"
            ],
            [
             0.2222222222222222,
             "#7201a8"
            ],
            [
             0.3333333333333333,
             "#9c179e"
            ],
            [
             0.4444444444444444,
             "#bd3786"
            ],
            [
             0.5555555555555556,
             "#d8576b"
            ],
            [
             0.6666666666666666,
             "#ed7953"
            ],
            [
             0.7777777777777778,
             "#fb9f3a"
            ],
            [
             0.8888888888888888,
             "#fdca26"
            ],
            [
             1,
             "#f0f921"
            ]
           ]
          },
          "colorway": [
           "#636efa",
           "#EF553B",
           "#00cc96",
           "#ab63fa",
           "#FFA15A",
           "#19d3f3",
           "#FF6692",
           "#B6E880",
           "#FF97FF",
           "#FECB52"
          ],
          "font": {
           "color": "#2a3f5f"
          },
          "geo": {
           "bgcolor": "white",
           "lakecolor": "white",
           "landcolor": "#E5ECF6",
           "showlakes": true,
           "showland": true,
           "subunitcolor": "white"
          },
          "hoverlabel": {
           "align": "left"
          },
          "hovermode": "closest",
          "mapbox": {
           "style": "light"
          },
          "paper_bgcolor": "white",
          "plot_bgcolor": "#E5ECF6",
          "polar": {
           "angularaxis": {
            "gridcolor": "white",
            "linecolor": "white",
            "ticks": ""
           },
           "bgcolor": "#E5ECF6",
           "radialaxis": {
            "gridcolor": "white",
            "linecolor": "white",
            "ticks": ""
           }
          },
          "scene": {
           "xaxis": {
            "backgroundcolor": "#E5ECF6",
            "gridcolor": "white",
            "gridwidth": 2,
            "linecolor": "white",
            "showbackground": true,
            "ticks": "",
            "zerolinecolor": "white"
           },
           "yaxis": {
            "backgroundcolor": "#E5ECF6",
            "gridcolor": "white",
            "gridwidth": 2,
            "linecolor": "white",
            "showbackground": true,
            "ticks": "",
            "zerolinecolor": "white"
           },
           "zaxis": {
            "backgroundcolor": "#E5ECF6",
            "gridcolor": "white",
            "gridwidth": 2,
            "linecolor": "white",
            "showbackground": true,
            "ticks": "",
            "zerolinecolor": "white"
           }
          },
          "shapedefaults": {
           "line": {
            "color": "#2a3f5f"
           }
          },
          "ternary": {
           "aaxis": {
            "gridcolor": "white",
            "linecolor": "white",
            "ticks": ""
           },
           "baxis": {
            "gridcolor": "white",
            "linecolor": "white",
            "ticks": ""
           },
           "bgcolor": "#E5ECF6",
           "caxis": {
            "gridcolor": "white",
            "linecolor": "white",
            "ticks": ""
           }
          },
          "title": {
           "x": 0.05
          },
          "xaxis": {
           "automargin": true,
           "gridcolor": "white",
           "linecolor": "white",
           "ticks": "",
           "title": {
            "standoff": 15
           },
           "zerolinecolor": "white",
           "zerolinewidth": 2
          },
          "yaxis": {
           "automargin": true,
           "gridcolor": "white",
           "linecolor": "white",
           "ticks": "",
           "title": {
            "standoff": 15
           },
           "zerolinecolor": "white",
           "zerolinewidth": 2
          }
         }
        },
        "title": {
         "text": "Top 10 Countries by Number of Movies/TV Shows on Netflix"
        },
        "xaxis": {
         "anchor": "y",
         "domain": [
          0,
          1
         ],
         "title": {
          "text": "Country"
         }
        },
        "yaxis": {
         "anchor": "x",
         "domain": [
          0,
          1
         ],
         "title": {
          "text": "Number of Movies/TV Shows"
         }
        }
       }
      }
     },
     "metadata": {},
     "output_type": "display_data"
    }
   ],
   "source": [
    "country_counts=df['country'].value_counts().dropna().head(10)\n",
    "barChart=px.bar(x=country_counts.index,\n",
    "    y=country_counts.values,\n",
    "    labels={'x': 'Country', 'y': 'Number of Movies/TV Shows'},\n",
    "    title='Top 10 Countries by Number of Movies/TV Shows on Netflix',\n",
    "    color=country_counts.values,\n",
    "    color_continuous_scale='Viridis'\n",
    ")\n",
    "barChart.show()"
   ]
  },
  {
   "cell_type": "markdown",
   "metadata": {},
   "source": [
    "Sentiment Analysis of Netflix content"
   ]
  },
  {
   "cell_type": "code",
   "execution_count": null,
   "metadata": {},
   "outputs": [
    {
     "data": {
      "application/vnd.plotly.v1+json": {
       "config": {
        "plotlyServerURL": "https://plot.ly"
       },
       "data": [
        {
         "hovertemplate": "Sentiment=Netural<br>Release Year=%{x}<br>Total Count=%{y}<extra></extra>",
         "legendgroup": "Netural",
         "marker": {
          "color": "#636efa",
          "pattern": {
           "shape": ""
          }
         },
         "name": "Netural",
         "orientation": "v",
         "showlegend": true,
         "textposition": "auto",
         "type": "bar",
         "x": {
          "bdata": "1gfXB9gH2QfaB9sH3AfdB94H3wfgB+EH4gfjB+QH5Qc=",
          "dtype": "i2"
         },
         "xaxis": "x",
         "y": {
          "bdata": "VABIAGoAggCiAJ4AzgD+AEAB8AEsA6QDCgS2A2gDDwI=",
          "dtype": "i2"
         },
         "yaxis": "y"
        },
        {
         "hovertemplate": "Sentiment=Positive<br>Release Year=%{x}<br>Total Count=%{y}<extra></extra>",
         "legendgroup": "Positive",
         "marker": {
          "color": "#EF553B",
          "pattern": {
           "shape": ""
          }
         },
         "name": "Positive",
         "orientation": "v",
         "showlegend": true,
         "textposition": "auto",
         "type": "bar",
         "x": {
          "bdata": "1gfXB9gH2QfaB9sH3AfdB94H3wfgB+EH4gfjB+QH5Qc=",
          "dtype": "i2"
         },
         "xaxis": "x",
         "y": {
          "bdata": "DBAdFh4bHiAgO1licFBRQQ==",
          "dtype": "i1"
         },
         "yaxis": "y"
        }
       ],
       "layout": {
        "barmode": "relative",
        "legend": {
         "title": {
          "text": "Sentiment"
         },
         "tracegroupgap": 0
        },
        "template": {
         "data": {
          "bar": [
           {
            "error_x": {
             "color": "#2a3f5f"
            },
            "error_y": {
             "color": "#2a3f5f"
            },
            "marker": {
             "line": {
              "color": "#E5ECF6",
              "width": 0.5
             },
             "pattern": {
              "fillmode": "overlay",
              "size": 10,
              "solidity": 0.2
             }
            },
            "type": "bar"
           }
          ],
          "barpolar": [
           {
            "marker": {
             "line": {
              "color": "#E5ECF6",
              "width": 0.5
             },
             "pattern": {
              "fillmode": "overlay",
              "size": 10,
              "solidity": 0.2
             }
            },
            "type": "barpolar"
           }
          ],
          "carpet": [
           {
            "aaxis": {
             "endlinecolor": "#2a3f5f",
             "gridcolor": "white",
             "linecolor": "white",
             "minorgridcolor": "white",
             "startlinecolor": "#2a3f5f"
            },
            "baxis": {
             "endlinecolor": "#2a3f5f",
             "gridcolor": "white",
             "linecolor": "white",
             "minorgridcolor": "white",
             "startlinecolor": "#2a3f5f"
            },
            "type": "carpet"
           }
          ],
          "choropleth": [
           {
            "colorbar": {
             "outlinewidth": 0,
             "ticks": ""
            },
            "type": "choropleth"
           }
          ],
          "contour": [
           {
            "colorbar": {
             "outlinewidth": 0,
             "ticks": ""
            },
            "colorscale": [
             [
              0,
              "#0d0887"
             ],
             [
              0.1111111111111111,
              "#46039f"
             ],
             [
              0.2222222222222222,
              "#7201a8"
             ],
             [
              0.3333333333333333,
              "#9c179e"
             ],
             [
              0.4444444444444444,
              "#bd3786"
             ],
             [
              0.5555555555555556,
              "#d8576b"
             ],
             [
              0.6666666666666666,
              "#ed7953"
             ],
             [
              0.7777777777777778,
              "#fb9f3a"
             ],
             [
              0.8888888888888888,
              "#fdca26"
             ],
             [
              1,
              "#f0f921"
             ]
            ],
            "type": "contour"
           }
          ],
          "contourcarpet": [
           {
            "colorbar": {
             "outlinewidth": 0,
             "ticks": ""
            },
            "type": "contourcarpet"
           }
          ],
          "heatmap": [
           {
            "colorbar": {
             "outlinewidth": 0,
             "ticks": ""
            },
            "colorscale": [
             [
              0,
              "#0d0887"
             ],
             [
              0.1111111111111111,
              "#46039f"
             ],
             [
              0.2222222222222222,
              "#7201a8"
             ],
             [
              0.3333333333333333,
              "#9c179e"
             ],
             [
              0.4444444444444444,
              "#bd3786"
             ],
             [
              0.5555555555555556,
              "#d8576b"
             ],
             [
              0.6666666666666666,
              "#ed7953"
             ],
             [
              0.7777777777777778,
              "#fb9f3a"
             ],
             [
              0.8888888888888888,
              "#fdca26"
             ],
             [
              1,
              "#f0f921"
             ]
            ],
            "type": "heatmap"
           }
          ],
          "histogram": [
           {
            "marker": {
             "pattern": {
              "fillmode": "overlay",
              "size": 10,
              "solidity": 0.2
             }
            },
            "type": "histogram"
           }
          ],
          "histogram2d": [
           {
            "colorbar": {
             "outlinewidth": 0,
             "ticks": ""
            },
            "colorscale": [
             [
              0,
              "#0d0887"
             ],
             [
              0.1111111111111111,
              "#46039f"
             ],
             [
              0.2222222222222222,
              "#7201a8"
             ],
             [
              0.3333333333333333,
              "#9c179e"
             ],
             [
              0.4444444444444444,
              "#bd3786"
             ],
             [
              0.5555555555555556,
              "#d8576b"
             ],
             [
              0.6666666666666666,
              "#ed7953"
             ],
             [
              0.7777777777777778,
              "#fb9f3a"
             ],
             [
              0.8888888888888888,
              "#fdca26"
             ],
             [
              1,
              "#f0f921"
             ]
            ],
            "type": "histogram2d"
           }
          ],
          "histogram2dcontour": [
           {
            "colorbar": {
             "outlinewidth": 0,
             "ticks": ""
            },
            "colorscale": [
             [
              0,
              "#0d0887"
             ],
             [
              0.1111111111111111,
              "#46039f"
             ],
             [
              0.2222222222222222,
              "#7201a8"
             ],
             [
              0.3333333333333333,
              "#9c179e"
             ],
             [
              0.4444444444444444,
              "#bd3786"
             ],
             [
              0.5555555555555556,
              "#d8576b"
             ],
             [
              0.6666666666666666,
              "#ed7953"
             ],
             [
              0.7777777777777778,
              "#fb9f3a"
             ],
             [
              0.8888888888888888,
              "#fdca26"
             ],
             [
              1,
              "#f0f921"
             ]
            ],
            "type": "histogram2dcontour"
           }
          ],
          "mesh3d": [
           {
            "colorbar": {
             "outlinewidth": 0,
             "ticks": ""
            },
            "type": "mesh3d"
           }
          ],
          "parcoords": [
           {
            "line": {
             "colorbar": {
              "outlinewidth": 0,
              "ticks": ""
             }
            },
            "type": "parcoords"
           }
          ],
          "pie": [
           {
            "automargin": true,
            "type": "pie"
           }
          ],
          "scatter": [
           {
            "fillpattern": {
             "fillmode": "overlay",
             "size": 10,
             "solidity": 0.2
            },
            "type": "scatter"
           }
          ],
          "scatter3d": [
           {
            "line": {
             "colorbar": {
              "outlinewidth": 0,
              "ticks": ""
             }
            },
            "marker": {
             "colorbar": {
              "outlinewidth": 0,
              "ticks": ""
             }
            },
            "type": "scatter3d"
           }
          ],
          "scattercarpet": [
           {
            "marker": {
             "colorbar": {
              "outlinewidth": 0,
              "ticks": ""
             }
            },
            "type": "scattercarpet"
           }
          ],
          "scattergeo": [
           {
            "marker": {
             "colorbar": {
              "outlinewidth": 0,
              "ticks": ""
             }
            },
            "type": "scattergeo"
           }
          ],
          "scattergl": [
           {
            "marker": {
             "colorbar": {
              "outlinewidth": 0,
              "ticks": ""
             }
            },
            "type": "scattergl"
           }
          ],
          "scattermap": [
           {
            "marker": {
             "colorbar": {
              "outlinewidth": 0,
              "ticks": ""
             }
            },
            "type": "scattermap"
           }
          ],
          "scattermapbox": [
           {
            "marker": {
             "colorbar": {
              "outlinewidth": 0,
              "ticks": ""
             }
            },
            "type": "scattermapbox"
           }
          ],
          "scatterpolar": [
           {
            "marker": {
             "colorbar": {
              "outlinewidth": 0,
              "ticks": ""
             }
            },
            "type": "scatterpolar"
           }
          ],
          "scatterpolargl": [
           {
            "marker": {
             "colorbar": {
              "outlinewidth": 0,
              "ticks": ""
             }
            },
            "type": "scatterpolargl"
           }
          ],
          "scatterternary": [
           {
            "marker": {
             "colorbar": {
              "outlinewidth": 0,
              "ticks": ""
             }
            },
            "type": "scatterternary"
           }
          ],
          "surface": [
           {
            "colorbar": {
             "outlinewidth": 0,
             "ticks": ""
            },
            "colorscale": [
             [
              0,
              "#0d0887"
             ],
             [
              0.1111111111111111,
              "#46039f"
             ],
             [
              0.2222222222222222,
              "#7201a8"
             ],
             [
              0.3333333333333333,
              "#9c179e"
             ],
             [
              0.4444444444444444,
              "#bd3786"
             ],
             [
              0.5555555555555556,
              "#d8576b"
             ],
             [
              0.6666666666666666,
              "#ed7953"
             ],
             [
              0.7777777777777778,
              "#fb9f3a"
             ],
             [
              0.8888888888888888,
              "#fdca26"
             ],
             [
              1,
              "#f0f921"
             ]
            ],
            "type": "surface"
           }
          ],
          "table": [
           {
            "cells": {
             "fill": {
              "color": "#EBF0F8"
             },
             "line": {
              "color": "white"
             }
            },
            "header": {
             "fill": {
              "color": "#C8D4E3"
             },
             "line": {
              "color": "white"
             }
            },
            "type": "table"
           }
          ]
         },
         "layout": {
          "annotationdefaults": {
           "arrowcolor": "#2a3f5f",
           "arrowhead": 0,
           "arrowwidth": 1
          },
          "autotypenumbers": "strict",
          "coloraxis": {
           "colorbar": {
            "outlinewidth": 0,
            "ticks": ""
           }
          },
          "colorscale": {
           "diverging": [
            [
             0,
             "#8e0152"
            ],
            [
             0.1,
             "#c51b7d"
            ],
            [
             0.2,
             "#de77ae"
            ],
            [
             0.3,
             "#f1b6da"
            ],
            [
             0.4,
             "#fde0ef"
            ],
            [
             0.5,
             "#f7f7f7"
            ],
            [
             0.6,
             "#e6f5d0"
            ],
            [
             0.7,
             "#b8e186"
            ],
            [
             0.8,
             "#7fbc41"
            ],
            [
             0.9,
             "#4d9221"
            ],
            [
             1,
             "#276419"
            ]
           ],
           "sequential": [
            [
             0,
             "#0d0887"
            ],
            [
             0.1111111111111111,
             "#46039f"
            ],
            [
             0.2222222222222222,
             "#7201a8"
            ],
            [
             0.3333333333333333,
             "#9c179e"
            ],
            [
             0.4444444444444444,
             "#bd3786"
            ],
            [
             0.5555555555555556,
             "#d8576b"
            ],
            [
             0.6666666666666666,
             "#ed7953"
            ],
            [
             0.7777777777777778,
             "#fb9f3a"
            ],
            [
             0.8888888888888888,
             "#fdca26"
            ],
            [
             1,
             "#f0f921"
            ]
           ],
           "sequentialminus": [
            [
             0,
             "#0d0887"
            ],
            [
             0.1111111111111111,
             "#46039f"
            ],
            [
             0.2222222222222222,
             "#7201a8"
            ],
            [
             0.3333333333333333,
             "#9c179e"
            ],
            [
             0.4444444444444444,
             "#bd3786"
            ],
            [
             0.5555555555555556,
             "#d8576b"
            ],
            [
             0.6666666666666666,
             "#ed7953"
            ],
            [
             0.7777777777777778,
             "#fb9f3a"
            ],
            [
             0.8888888888888888,
             "#fdca26"
            ],
            [
             1,
             "#f0f921"
            ]
           ]
          },
          "colorway": [
           "#636efa",
           "#EF553B",
           "#00cc96",
           "#ab63fa",
           "#FFA15A",
           "#19d3f3",
           "#FF6692",
           "#B6E880",
           "#FF97FF",
           "#FECB52"
          ],
          "font": {
           "color": "#2a3f5f"
          },
          "geo": {
           "bgcolor": "white",
           "lakecolor": "white",
           "landcolor": "#E5ECF6",
           "showlakes": true,
           "showland": true,
           "subunitcolor": "white"
          },
          "hoverlabel": {
           "align": "left"
          },
          "hovermode": "closest",
          "mapbox": {
           "style": "light"
          },
          "paper_bgcolor": "white",
          "plot_bgcolor": "#E5ECF6",
          "polar": {
           "angularaxis": {
            "gridcolor": "white",
            "linecolor": "white",
            "ticks": ""
           },
           "bgcolor": "#E5ECF6",
           "radialaxis": {
            "gridcolor": "white",
            "linecolor": "white",
            "ticks": ""
           }
          },
          "scene": {
           "xaxis": {
            "backgroundcolor": "#E5ECF6",
            "gridcolor": "white",
            "gridwidth": 2,
            "linecolor": "white",
            "showbackground": true,
            "ticks": "",
            "zerolinecolor": "white"
           },
           "yaxis": {
            "backgroundcolor": "#E5ECF6",
            "gridcolor": "white",
            "gridwidth": 2,
            "linecolor": "white",
            "showbackground": true,
            "ticks": "",
            "zerolinecolor": "white"
           },
           "zaxis": {
            "backgroundcolor": "#E5ECF6",
            "gridcolor": "white",
            "gridwidth": 2,
            "linecolor": "white",
            "showbackground": true,
            "ticks": "",
            "zerolinecolor": "white"
           }
          },
          "shapedefaults": {
           "line": {
            "color": "#2a3f5f"
           }
          },
          "ternary": {
           "aaxis": {
            "gridcolor": "white",
            "linecolor": "white",
            "ticks": ""
           },
           "baxis": {
            "gridcolor": "white",
            "linecolor": "white",
            "ticks": ""
           },
           "bgcolor": "#E5ECF6",
           "caxis": {
            "gridcolor": "white",
            "linecolor": "white",
            "ticks": ""
           }
          },
          "title": {
           "x": 0.05
          },
          "xaxis": {
           "automargin": true,
           "gridcolor": "white",
           "linecolor": "white",
           "ticks": "",
           "title": {
            "standoff": 15
           },
           "zerolinecolor": "white",
           "zerolinewidth": 2
          },
          "yaxis": {
           "automargin": true,
           "gridcolor": "white",
           "linecolor": "white",
           "ticks": "",
           "title": {
            "standoff": 15
           },
           "zerolinecolor": "white",
           "zerolinewidth": 2
          }
         }
        },
        "title": {
         "text": "Sentiment Analysis of content in Netflix "
        },
        "xaxis": {
         "anchor": "y",
         "domain": [
          0,
          1
         ],
         "title": {
          "text": "Release Year"
         }
        },
        "yaxis": {
         "anchor": "x",
         "domain": [
          0,
          1
         ],
         "title": {
          "text": "Total Count"
         }
        }
       }
      }
     },
     "metadata": {},
     "output_type": "display_data"
    }
   ],
   "source": [
    "df3=df[['release_year','listed_in']]\n",
    "df3=df3.rename(columns={'release_year':'Release Year','listed_in':'Description'})\n",
    "for index, row in df3.iterrows():\n",
    "    d=row['Description']\n",
    "    testimonial = TextBlob(d)\n",
    "    p = testimonial.sentiment.polarity\n",
    "    if p==0:\n",
    "        sent='Netural'\n",
    "    elif p>0:\n",
    "        sent ='Positive'\n",
    "    else:\n",
    "        sent ='Negative'\n",
    "    df3.loc[[index,2], 'Sentiment']=sent\n",
    "df3=df3.groupby(['Release Year', 'Sentiment']).size().reset_index(name= 'Total Count')\n",
    "df3=df3[df3['Release Year']>2005]\n",
    "barGraph=px.bar(df3, x='Release Year', y='Total Count', color= 'Sentiment', title='Sentiment Analysis of content in Netflix ')\n",
    "barGraph.show()\n"
   ]
  }
 ],
 "metadata": {
  "kernelspec": {
   "display_name": "Python 3",
   "language": "python",
   "name": "python3"
  },
  "language_info": {
   "codemirror_mode": {
    "name": "ipython",
    "version": 3
   },
   "file_extension": ".py",
   "mimetype": "text/x-python",
   "name": "python",
   "nbconvert_exporter": "python",
   "pygments_lexer": "ipython3",
   "version": "3.9.13"
  }
 },
 "nbformat": 4,
 "nbformat_minor": 2
}
